{
  "nbformat": 4,
  "nbformat_minor": 0,
  "metadata": {
    "colab": {
      "name": "pdg_knn.ipynb",
      "provenance": []
    },
    "kernelspec": {
      "name": "python3",
      "display_name": "Python 3"
    },
    "language_info": {
      "name": "python"
    }
  },
  "cells": [
    {
      "cell_type": "code",
      "metadata": {
        "colab": {
          "base_uri": "https://localhost:8080/",
          "height": 206
        },
        "id": "IDOEPH8mfRtp",
        "outputId": "6903d29f-3869-430b-b168-98907690c056"
      },
      "source": [
        "import pandas as pd\n",
        "import numpy as np\n",
        "import sys\n",
        "\n",
        "data = pd.read_csv('https://raw.githubusercontent.com/Ragnarok540/pdg/main/tags.txt', sep='~', header=None)\n",
        "\n",
        "data.columns = ['links', 'req']\n",
        "\n",
        "def add_categories(df):\n",
        "  bins = [0, 11, 120, sys.maxsize]\n",
        "  labels = ['low', 'moderate', 'high']\n",
        "  category = pd.cut(df['links'], bins=bins, labels=labels)\n",
        "  df['category'] = category\n",
        "  return df\n",
        "\n",
        "add_categories(data)\n",
        "\n",
        "data[\"label\"] = data[\"category\"].cat.codes\n",
        "\n",
        "data.head()"
      ],
      "execution_count": 1,
      "outputs": [
        {
          "output_type": "execute_result",
          "data": {
            "text/html": [
              "<div>\n",
              "<style scoped>\n",
              "    .dataframe tbody tr th:only-of-type {\n",
              "        vertical-align: middle;\n",
              "    }\n",
              "\n",
              "    .dataframe tbody tr th {\n",
              "        vertical-align: top;\n",
              "    }\n",
              "\n",
              "    .dataframe thead th {\n",
              "        text-align: right;\n",
              "    }\n",
              "</style>\n",
              "<table border=\"1\" class=\"dataframe\">\n",
              "  <thead>\n",
              "    <tr style=\"text-align: right;\">\n",
              "      <th></th>\n",
              "      <th>links</th>\n",
              "      <th>req</th>\n",
              "      <th>category</th>\n",
              "      <th>label</th>\n",
              "    </tr>\n",
              "  </thead>\n",
              "  <tbody>\n",
              "    <tr>\n",
              "      <th>0</th>\n",
              "      <td>198</td>\n",
              "      <td>The solution should provide detailed context s...</td>\n",
              "      <td>high</td>\n",
              "      <td>2</td>\n",
              "    </tr>\n",
              "    <tr>\n",
              "      <th>1</th>\n",
              "      <td>282</td>\n",
              "      <td>The solution should provide an interface for t...</td>\n",
              "      <td>high</td>\n",
              "      <td>2</td>\n",
              "    </tr>\n",
              "    <tr>\n",
              "      <th>2</th>\n",
              "      <td>34</td>\n",
              "      <td>The solution should send alerts (for example, ...</td>\n",
              "      <td>moderate</td>\n",
              "      <td>1</td>\n",
              "    </tr>\n",
              "    <tr>\n",
              "      <th>3</th>\n",
              "      <td>8</td>\n",
              "      <td>The solution should enable the user to track t...</td>\n",
              "      <td>low</td>\n",
              "      <td>0</td>\n",
              "    </tr>\n",
              "    <tr>\n",
              "      <th>4</th>\n",
              "      <td>401597</td>\n",
              "      <td>The solution should enable the help desk user ...</td>\n",
              "      <td>high</td>\n",
              "      <td>2</td>\n",
              "    </tr>\n",
              "  </tbody>\n",
              "</table>\n",
              "</div>"
            ],
            "text/plain": [
              "    links                                                req  category  label\n",
              "0     198  The solution should provide detailed context s...      high      2\n",
              "1     282  The solution should provide an interface for t...      high      2\n",
              "2      34  The solution should send alerts (for example, ...  moderate      1\n",
              "3       8  The solution should enable the user to track t...       low      0\n",
              "4  401597  The solution should enable the help desk user ...      high      2"
            ]
          },
          "metadata": {
            "tags": []
          },
          "execution_count": 1
        }
      ]
    },
    {
      "cell_type": "code",
      "metadata": {
        "colab": {
          "base_uri": "https://localhost:8080/"
        },
        "id": "4dfwTjO9fnpK",
        "outputId": "6d52b227-90cf-4a25-b0bb-7290e5212deb"
      },
      "source": [
        "from sklearn.feature_extraction.text import CountVectorizer\n",
        "from sklearn.feature_extraction.text import TfidfTransformer\n",
        "from sklearn.model_selection import train_test_split\n",
        "from sklearn import metrics\n",
        "\n",
        "ngram = False\n",
        "tf_idf = True\n",
        "\n",
        "if ngram:\n",
        "  ngram_range = (1, 3)\n",
        "else:\n",
        "  ngram_range = (1, 1)\n",
        "\n",
        "count_vect = CountVectorizer(ngram_range=ngram_range)\n",
        "X_train_count = count_vect.fit_transform(data['req'])\n",
        "\n",
        "if tf_idf:\n",
        "  tfidf_transformer = TfidfTransformer()\n",
        "  X_train_count = tfidf_transformer.fit_transform(X_train_count)\n",
        "\n",
        "y = data['label']\n",
        "\n",
        "X_train, X_test, y_train, y_test = train_test_split(X_train_count, y, test_size=0.2, random_state=1) # 80% training and 20% test\n",
        "\n",
        "X_train_count.shape"
      ],
      "execution_count": null,
      "outputs": [
        {
          "output_type": "execute_result",
          "data": {
            "text/plain": [
              "(5291, 6256)"
            ]
          },
          "metadata": {
            "tags": []
          },
          "execution_count": 3
        }
      ]
    },
    {
      "cell_type": "code",
      "metadata": {
        "colab": {
          "base_uri": "https://localhost:8080/"
        },
        "id": "LakqAal0gVJB",
        "outputId": "555fd473-c1f0-4364-9420-32776160ca0d"
      },
      "source": [
        "from pprint import pprint\n",
        "from sklearn.neighbors import KNeighborsClassifier\n",
        "\n",
        "clf = KNeighborsClassifier()\n",
        "\n",
        "print('Parameters currently in use:\\n')\n",
        "\n",
        "pprint(clf.get_params())"
      ],
      "execution_count": null,
      "outputs": [
        {
          "output_type": "stream",
          "text": [
            "Parameters currently in use:\n",
            "\n",
            "{'algorithm': 'auto',\n",
            " 'leaf_size': 30,\n",
            " 'metric': 'minkowski',\n",
            " 'metric_params': None,\n",
            " 'n_jobs': None,\n",
            " 'n_neighbors': 5,\n",
            " 'p': 2,\n",
            " 'weights': 'uniform'}\n"
          ],
          "name": "stdout"
        }
      ]
    },
    {
      "cell_type": "code",
      "metadata": {
        "colab": {
          "base_uri": "https://localhost:8080/"
        },
        "id": "2HERj2iUg3Q_",
        "outputId": "6aa7d1aa-e345-49a8-bc8b-b8c993cedddf"
      },
      "source": [
        "param_grid = {'metric': ['minkowski', 'manhattan', 'seuclidean', 'chebyshev', 'mahalanobis', 'wminkowski', 'euclidean'],\n",
        "              'n_neighbors': [1, 3, 5]}\n",
        "\n",
        "pprint(param_grid)"
      ],
      "execution_count": null,
      "outputs": [
        {
          "output_type": "stream",
          "text": [
            "{'metric': ['minkowski',\n",
            "            'manhattan',\n",
            "            'seuclidean',\n",
            "            'chebyshev',\n",
            "            'mahalanobis',\n",
            "            'wminkowski',\n",
            "            'euclidean'],\n",
            " 'n_neighbors': [1, 3, 5]}\n"
          ],
          "name": "stdout"
        }
      ]
    },
    {
      "cell_type": "code",
      "metadata": {
        "colab": {
          "base_uri": "https://localhost:8080/"
        },
        "id": "Bi5GD6cvhKlm",
        "outputId": "9be842aa-324d-47e9-f875-8ba03ec39d52"
      },
      "source": [
        "from sklearn.model_selection import GridSearchCV\n",
        "\n",
        "grid_search = GridSearchCV(estimator=clf, param_grid=param_grid, cv=5, n_jobs=-1, verbose=2)\n",
        "\n",
        "grid_search.fit(X_train, y_train)\n",
        "\n",
        "grid_search.best_params_"
      ],
      "execution_count": null,
      "outputs": [
        {
          "output_type": "stream",
          "text": [
            "Fitting 5 folds for each of 21 candidates, totalling 105 fits\n"
          ],
          "name": "stdout"
        },
        {
          "output_type": "stream",
          "text": [
            "[Parallel(n_jobs=-1)]: Using backend LokyBackend with 2 concurrent workers.\n",
            "[Parallel(n_jobs=-1)]: Done  51 tasks      | elapsed:   10.3s\n",
            "[Parallel(n_jobs=-1)]: Done 105 out of 105 | elapsed:   12.4s finished\n"
          ],
          "name": "stderr"
        },
        {
          "output_type": "execute_result",
          "data": {
            "text/plain": [
              "{'metric': 'manhattan', 'n_neighbors': 1}"
            ]
          },
          "metadata": {
            "tags": []
          },
          "execution_count": 9
        }
      ]
    },
    {
      "cell_type": "code",
      "metadata": {
        "id": "D1e-Xd2EgDxO"
      },
      "source": [
        "clf = KNeighborsClassifier(n_neighbors=1, metric='manhattan')\n",
        "\n",
        "clf = clf.fit(X_train, y_train)\n",
        "\n",
        "y_pred = clf.predict(X_test)\n",
        "\n",
        "cf_matrix = metrics.confusion_matrix(y_test, y_pred)"
      ],
      "execution_count": null,
      "outputs": []
    },
    {
      "cell_type": "code",
      "metadata": {
        "colab": {
          "base_uri": "https://localhost:8080/",
          "height": 265
        },
        "id": "XdFys1v1gJc3",
        "outputId": "6f799e44-f173-46cf-c619-2196c7c0cc5a"
      },
      "source": [
        "import seaborn as sns\n",
        "\n",
        "def cf_matrix_plot(cf_matrix):\n",
        "  group_names = ['True Low', 'False Moderate', 'False High', 'False Low', 'True Moderate', 'False High', 'False Low', 'False Moderate', 'True High']\n",
        "  group_counts = ['{0:0.0f}'.format(value) for value in cf_matrix.flatten()]\n",
        "  group_percentages = ['{0:.2%}'.format(value) for value in cf_matrix.flatten() / np.sum(cf_matrix)]\n",
        "  labels = [f'{v1}\\n{v2}\\n{v3}' for v1, v2, v3 in zip(group_names, group_counts, group_percentages)]\n",
        "  labels = np.asarray(labels).reshape(3,3)\n",
        "  sns.heatmap(cf_matrix, annot=labels, fmt='', cmap='Blues')\n",
        "\n",
        "cf_matrix_plot(cf_matrix)"
      ],
      "execution_count": null,
      "outputs": [
        {
          "output_type": "display_data",
          "data": {
            "image/png": "[encoded data removed]",
            "text/plain": [
              "<Figure size 432x288 with 2 Axes>"
            ]
          },
          "metadata": {
            "tags": [],
            "needs_background": "light"
          }
        }
      ]
    },
    {
      "cell_type": "code",
      "metadata": {
        "colab": {
          "base_uri": "https://localhost:8080/"
        },
        "id": "LzjOKg-DgN1P",
        "outputId": "995d6aec-dd91-4415-ae67-6b9da490d1b5"
      },
      "source": [
        "print(metrics.classification_report(y_test, y_pred, labels=[0, 1, 2]))"
      ],
      "execution_count": null,
      "outputs": [
        {
          "output_type": "stream",
          "text": [
            "              precision    recall  f1-score   support\n",
            "\n",
            "           0       0.47      0.84      0.61       400\n",
            "           1       0.47      0.31      0.37       375\n",
            "           2       0.62      0.22      0.33       284\n",
            "\n",
            "    accuracy                           0.49      1059\n",
            "   macro avg       0.52      0.46      0.44      1059\n",
            "weighted avg       0.51      0.49      0.45      1059\n",
            "\n"
          ],
          "name": "stdout"
        }
      ]
    }
  ]
}
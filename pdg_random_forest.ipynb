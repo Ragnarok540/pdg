{
  "nbformat": 4,
  "nbformat_minor": 0,
  "metadata": {
    "colab": {
      "name": "pdg_random_forest.ipynb",
      "provenance": []
    },
    "kernelspec": {
      "name": "python3",
      "display_name": "Python 3"
    },
    "language_info": {
      "name": "python"
    }
  },
  "cells": [
    {
      "cell_type": "code",
      "metadata": {
        "colab": {
          "base_uri": "https://localhost:8080/",
          "height": 206
        },
        "id": "29JvuhWO2fv5",
        "outputId": "a75a1c6d-5011-43b5-d028-04b56afad6f6"
      },
      "source": [
        "import pandas as pd\n",
        "import numpy as np\n",
        "import sys\n",
        "\n",
        "data = pd.read_csv('https://raw.githubusercontent.com/Ragnarok540/pdg/main/tags.txt', sep='~', header=None)\n",
        "\n",
        "data.columns = ['links', 'req']\n",
        "\n",
        "def add_categories(df):\n",
        "  bins = [0, 11, 120, sys.maxsize]\n",
        "  labels = ['low', 'moderate', 'high']\n",
        "  category = pd.cut(df['links'], bins=bins, labels=labels)\n",
        "  df['category'] = category\n",
        "  return df\n",
        "\n",
        "add_categories(data)\n",
        "\n",
        "data[\"label\"] = data[\"category\"].cat.codes\n",
        "\n",
        "data.head()"
      ],
      "execution_count": 1,
      "outputs": [
        {
          "output_type": "execute_result",
          "data": {
            "text/html": [
              "<div>\n",
              "<style scoped>\n",
              "    .dataframe tbody tr th:only-of-type {\n",
              "        vertical-align: middle;\n",
              "    }\n",
              "\n",
              "    .dataframe tbody tr th {\n",
              "        vertical-align: top;\n",
              "    }\n",
              "\n",
              "    .dataframe thead th {\n",
              "        text-align: right;\n",
              "    }\n",
              "</style>\n",
              "<table border=\"1\" class=\"dataframe\">\n",
              "  <thead>\n",
              "    <tr style=\"text-align: right;\">\n",
              "      <th></th>\n",
              "      <th>links</th>\n",
              "      <th>req</th>\n",
              "      <th>category</th>\n",
              "      <th>label</th>\n",
              "    </tr>\n",
              "  </thead>\n",
              "  <tbody>\n",
              "    <tr>\n",
              "      <th>0</th>\n",
              "      <td>198</td>\n",
              "      <td>The solution should provide detailed context s...</td>\n",
              "      <td>high</td>\n",
              "      <td>2</td>\n",
              "    </tr>\n",
              "    <tr>\n",
              "      <th>1</th>\n",
              "      <td>282</td>\n",
              "      <td>The solution should provide an interface for t...</td>\n",
              "      <td>high</td>\n",
              "      <td>2</td>\n",
              "    </tr>\n",
              "    <tr>\n",
              "      <th>2</th>\n",
              "      <td>34</td>\n",
              "      <td>The solution should send alerts (for example, ...</td>\n",
              "      <td>moderate</td>\n",
              "      <td>1</td>\n",
              "    </tr>\n",
              "    <tr>\n",
              "      <th>3</th>\n",
              "      <td>8</td>\n",
              "      <td>The solution should enable the user to track t...</td>\n",
              "      <td>low</td>\n",
              "      <td>0</td>\n",
              "    </tr>\n",
              "    <tr>\n",
              "      <th>4</th>\n",
              "      <td>401597</td>\n",
              "      <td>The solution should enable the help desk user ...</td>\n",
              "      <td>high</td>\n",
              "      <td>2</td>\n",
              "    </tr>\n",
              "  </tbody>\n",
              "</table>\n",
              "</div>"
            ],
            "text/plain": [
              "    links                                                req  category  label\n",
              "0     198  The solution should provide detailed context s...      high      2\n",
              "1     282  The solution should provide an interface for t...      high      2\n",
              "2      34  The solution should send alerts (for example, ...  moderate      1\n",
              "3       8  The solution should enable the user to track t...       low      0\n",
              "4  401597  The solution should enable the help desk user ...      high      2"
            ]
          },
          "metadata": {
            "tags": []
          },
          "execution_count": 1
        }
      ]
    },
    {
      "cell_type": "code",
      "metadata": {
        "colab": {
          "base_uri": "https://localhost:8080/"
        },
        "id": "IgIeOFn12wug",
        "outputId": "9cee27f5-68ec-4f85-b530-5175e883b69e"
      },
      "source": [
        "from sklearn.feature_extraction.text import CountVectorizer\n",
        "from sklearn.feature_extraction.text import TfidfTransformer\n",
        "from sklearn.model_selection import train_test_split\n",
        "from sklearn import metrics\n",
        "\n",
        "ngram = True\n",
        "tf_idf = True\n",
        "\n",
        "if ngram:\n",
        "  ngram_range = (1, 3)\n",
        "else:\n",
        "  ngram_range = (1, 1)\n",
        "\n",
        "count_vect = CountVectorizer(ngram_range=ngram_range)\n",
        "X_train_count = count_vect.fit_transform(data['req'])\n",
        "\n",
        "if tf_idf:\n",
        "  tfidf_transformer = TfidfTransformer()\n",
        "  X_train_count = tfidf_transformer.fit_transform(X_train_count)\n",
        "\n",
        "y = data['label']\n",
        "\n",
        "X_train, X_test, y_train, y_test = train_test_split(X_train_count, y, test_size=0.2, random_state=1) # 80% training and 20% test\n",
        "\n",
        "X_train_count.shape"
      ],
      "execution_count": 2,
      "outputs": [
        {
          "output_type": "execute_result",
          "data": {
            "text/plain": [
              "(5291, 110291)"
            ]
          },
          "metadata": {
            "tags": []
          },
          "execution_count": 2
        }
      ]
    },
    {
      "cell_type": "code",
      "metadata": {
        "id": "a16FrH1l24Od"
      },
      "source": [
        "from sklearn.ensemble import RandomForestClassifier\n",
        "\n",
        "clf = RandomForestClassifier()"
      ],
      "execution_count": 3,
      "outputs": []
    },
    {
      "cell_type": "code",
      "metadata": {
        "colab": {
          "base_uri": "https://localhost:8080/"
        },
        "id": "cB8aALsQ3M8o",
        "outputId": "442a8e64-9a68-4cb8-fd7b-da84eb5bd054"
      },
      "source": [
        "from pprint import pprint\n",
        "\n",
        "# Look at parameters used by our current forest\n",
        "print('Parameters currently in use:\\n')\n",
        "\n",
        "pprint(clf.get_params())"
      ],
      "execution_count": 4,
      "outputs": [
        {
          "output_type": "stream",
          "text": [
            "Parameters currently in use:\n",
            "\n",
            "{'bootstrap': True,\n",
            " 'ccp_alpha': 0.0,\n",
            " 'class_weight': None,\n",
            " 'criterion': 'gini',\n",
            " 'max_depth': None,\n",
            " 'max_features': 'auto',\n",
            " 'max_leaf_nodes': None,\n",
            " 'max_samples': None,\n",
            " 'min_impurity_decrease': 0.0,\n",
            " 'min_impurity_split': None,\n",
            " 'min_samples_leaf': 1,\n",
            " 'min_samples_split': 2,\n",
            " 'min_weight_fraction_leaf': 0.0,\n",
            " 'n_estimators': 100,\n",
            " 'n_jobs': None,\n",
            " 'oob_score': False,\n",
            " 'random_state': None,\n",
            " 'verbose': 0,\n",
            " 'warm_start': False}\n"
          ],
          "name": "stdout"
        }
      ]
    },
    {
      "cell_type": "code",
      "metadata": {
        "colab": {
          "base_uri": "https://localhost:8080/"
        },
        "id": "PAb0PHCF4QX5",
        "outputId": "5dd0a6c7-c168-4760-d2c9-cb31aa825aec"
      },
      "source": [
        "from sklearn.model_selection import RandomizedSearchCV\n",
        "\n",
        "# Number of trees in random forest\n",
        "n_estimators = [50, 100, 150]\n",
        "# Number of features to consider at every split\n",
        "max_features = ['auto']\n",
        "# Maximum number of levels in tree\n",
        "max_depth = [None, 10, 50, 100]\n",
        "#max_depth.append(None)\n",
        "# Minimum number of samples required to split a node\n",
        "min_samples_split = [2, 5]\n",
        "# Minimum number of samples required at each leaf node\n",
        "#min_samples_leaf = [1, 2, 4]\n",
        "# Method of selecting samples for training each tree\n",
        "bootstrap = [True, False]\n",
        "# Create the random grid\n",
        "param_grid = {'n_estimators': n_estimators,\n",
        "               'max_features': max_features,\n",
        "               'max_depth': max_depth,\n",
        "               'min_samples_split': min_samples_split,\n",
        "               #'min_samples_leaf': min_samples_leaf,\n",
        "               'bootstrap': bootstrap}\n",
        "               \n",
        "pprint(param_grid)"
      ],
      "execution_count": 5,
      "outputs": [
        {
          "output_type": "stream",
          "text": [
            "{'bootstrap': [True, False],\n",
            " 'max_depth': [None, 10, 50, 100],\n",
            " 'max_features': ['auto'],\n",
            " 'min_samples_split': [2, 5],\n",
            " 'n_estimators': [50, 100, 150]}\n"
          ],
          "name": "stdout"
        }
      ]
    },
    {
      "cell_type": "code",
      "metadata": {
        "id": "lR-HZ9_8WZ2c"
      },
      "source": [
        "from sklearn.model_selection import GridSearchCV\n",
        "\n",
        "grid_search = GridSearchCV(estimator=clf, param_grid=param_grid, cv=5, n_jobs=-1, verbose=2)\n",
        "\n",
        "grid_search.fit(X_train, y_train)\n",
        "\n",
        "grid_search.best_params_"
      ],
      "execution_count": 6,
      "outputs": []
    },
    {
      "cell_type": "code",
      "metadata": {
        "id": "2P6yqihach3q"
      },
      "source": [
        "clf = RandomForestClassifier(bootstrap=False, max_depth=None, max_features='auto', min_samples_leaf=1, min_samples_split=5, n_estimators=150)\n",
        "\n",
        "clf = clf.fit(X_train, y_train)\n",
        "\n",
        "y_pred = clf.predict(X_test)\n",
        "\n",
        "cf_matrix = metrics.confusion_matrix(y_test, y_pred)"
      ],
      "execution_count": 7,
      "outputs": []
    },
    {
      "cell_type": "code",
      "metadata": {
        "id": "_1c6DeHZCwWR"
      },
      "source": [
        "import seaborn as sns\n",
        "\n",
        "def cf_matrix_plot(cf_matrix):\n",
        "  group_names = ['True Low', 'False Moderate', 'False High', 'False Low', 'True Moderate', 'False High', 'False Low', 'False Moderate', 'True High']\n",
        "  group_counts = ['{0:0.0f}'.format(value) for value in cf_matrix.flatten()]\n",
        "  group_percentages = ['{0:.2%}'.format(value) for value in cf_matrix.flatten() / np.sum(cf_matrix)]\n",
        "  labels = [f'{v1}\\n{v2}\\n{v3}' for v1, v2, v3 in zip(group_names, group_counts, group_percentages)]\n",
        "  labels = np.asarray(labels).reshape(3,3)\n",
        "  sns.heatmap(cf_matrix, annot=labels, fmt='', cmap='Blues')\n"
      ],
      "execution_count": 8,
      "outputs": []
    },
    {
      "cell_type": "code",
      "metadata": {
        "colab": {
          "base_uri": "https://localhost:8080/",
          "height": 265
        },
        "id": "5WXhj3KZc0Ri",
        "outputId": "c2f53934-1f42-4eb1-fa47-f1735194aaa6"
      },
      "source": [
        "cf_matrix_plot(cf_matrix)"
      ],
      "execution_count": 9,
      "outputs": [
        {
          "output_type": "display_data",
          "data": {
            "image/png": "[encoded data removed]",
            "text/plain": [
              "<Figure size 432x288 with 2 Axes>"
            ]
          },
          "metadata": {
            "tags": [],
            "needs_background": "light"
          }
        }
      ]
    },
    {
      "cell_type": "code",
      "metadata": {
        "colab": {
          "base_uri": "https://localhost:8080/"
        },
        "id": "Ce3s0bWNc8xT",
        "outputId": "c872e93c-6e58-497f-9575-793c3b7ab245"
      },
      "source": [
        "print(metrics.classification_report(y_test, y_pred, labels=[0, 1, 2]))"
      ],
      "execution_count": 10,
      "outputs": [
        {
          "output_type": "stream",
          "text": [
            "              precision    recall  f1-score   support\n",
            "\n",
            "           0       0.68      0.80      0.74       400\n",
            "           1       0.56      0.51      0.54       375\n",
            "           2       0.72      0.62      0.67       284\n",
            "\n",
            "    accuracy                           0.65      1059\n",
            "   macro avg       0.65      0.65      0.65      1059\n",
            "weighted avg       0.65      0.65      0.65      1059\n",
            "\n"
          ],
          "name": "stdout"
        }
      ]
    }
  ]
}
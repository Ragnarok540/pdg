{
  "nbformat": 4,
  "nbformat_minor": 0,
  "metadata": {
    "colab": {
      "name": "pdg_analysis.ipynb",
      "provenance": [],
      "collapsed_sections": []
    },
    "kernelspec": {
      "name": "python3",
      "display_name": "Python 3"
    }
  },
  "cells": [
    {
      "cell_type": "code",
      "metadata": {
        "colab": {
          "base_uri": "https://localhost:8080/",
          "height": 424
        },
        "id": "Kq0clBe8J4rW",
        "outputId": "57a5e924-d30b-44b6-f17c-1b60049329bd"
      },
      "source": [
        "import pandas as pd\n",
        "\n",
        "data = pd.read_csv('https://raw.githubusercontent.com/Ragnarok540/pdg/main/tags.txt', sep='~', header=None)\n",
        "\n",
        "data.columns = ['links', 'req']\n",
        "\n",
        "data.sort_values(by='links', ascending=False)"
      ],
      "execution_count": 24,
      "outputs": [
        {
          "output_type": "execute_result",
          "data": {
            "text/html": [
              "<div>\n",
              "<style scoped>\n",
              "    .dataframe tbody tr th:only-of-type {\n",
              "        vertical-align: middle;\n",
              "    }\n",
              "\n",
              "    .dataframe tbody tr th {\n",
              "        vertical-align: top;\n",
              "    }\n",
              "\n",
              "    .dataframe thead th {\n",
              "        text-align: right;\n",
              "    }\n",
              "</style>\n",
              "<table border=\"1\" class=\"dataframe\">\n",
              "  <thead>\n",
              "    <tr style=\"text-align: right;\">\n",
              "      <th></th>\n",
              "      <th>links</th>\n",
              "      <th>req</th>\n",
              "    </tr>\n",
              "  </thead>\n",
              "  <tbody>\n",
              "    <tr>\n",
              "      <th>5222</th>\n",
              "      <td>933353585</td>\n",
              "      <td>Upon receipt of a new or modified flight route...</td>\n",
              "    </tr>\n",
              "    <tr>\n",
              "      <th>1685</th>\n",
              "      <td>200435096</td>\n",
              "      <td>Mapping interfaces and data dictionaries must ...</td>\n",
              "    </tr>\n",
              "    <tr>\n",
              "      <th>736</th>\n",
              "      <td>166364820</td>\n",
              "      <td>If the temperature setting value is strictly l...</td>\n",
              "    </tr>\n",
              "    <tr>\n",
              "      <th>3880</th>\n",
              "      <td>102094840</td>\n",
              "      <td>As a moderator, I want to select whether to ha...</td>\n",
              "    </tr>\n",
              "    <tr>\n",
              "      <th>2111</th>\n",
              "      <td>40168190</td>\n",
              "      <td>This may include creating contracting authorit...</td>\n",
              "    </tr>\n",
              "    <tr>\n",
              "      <th>...</th>\n",
              "      <td>...</td>\n",
              "      <td>...</td>\n",
              "    </tr>\n",
              "    <tr>\n",
              "      <th>625</th>\n",
              "      <td>1</td>\n",
              "      <td>The on line databases can be considered part o...</td>\n",
              "    </tr>\n",
              "    <tr>\n",
              "      <th>2755</th>\n",
              "      <td>1</td>\n",
              "      <td>The product must make use of web or applicatio...</td>\n",
              "    </tr>\n",
              "    <tr>\n",
              "      <th>4348</th>\n",
              "      <td>1</td>\n",
              "      <td>As a trainee, I want to limit to one registrat...</td>\n",
              "    </tr>\n",
              "    <tr>\n",
              "      <th>3722</th>\n",
              "      <td>1</td>\n",
              "      <td>As a member, I want to receive a reminder and ...</td>\n",
              "    </tr>\n",
              "    <tr>\n",
              "      <th>2319</th>\n",
              "      <td>1</td>\n",
              "      <td>The system shall authenticate user credentials...</td>\n",
              "    </tr>\n",
              "  </tbody>\n",
              "</table>\n",
              "<p>5291 rows × 2 columns</p>\n",
              "</div>"
            ],
            "text/plain": [
              "          links                                                req\n",
              "5222  933353585  Upon receipt of a new or modified flight route...\n",
              "1685  200435096  Mapping interfaces and data dictionaries must ...\n",
              "736   166364820  If the temperature setting value is strictly l...\n",
              "3880  102094840  As a moderator, I want to select whether to ha...\n",
              "2111   40168190  This may include creating contracting authorit...\n",
              "...         ...                                                ...\n",
              "625           1  The on line databases can be considered part o...\n",
              "2755          1  The product must make use of web or applicatio...\n",
              "4348          1  As a trainee, I want to limit to one registrat...\n",
              "3722          1  As a member, I want to receive a reminder and ...\n",
              "2319          1  The system shall authenticate user credentials...\n",
              "\n",
              "[5291 rows x 2 columns]"
            ]
          },
          "metadata": {
            "tags": []
          },
          "execution_count": 24
        }
      ]
    },
    {
      "cell_type": "code",
      "metadata": {
        "colab": {
          "base_uri": "https://localhost:8080/"
        },
        "id": "3jPkQLQn-dda",
        "outputId": "aeabc4ea-980a-42d4-eea2-64ef147a0cdb"
      },
      "source": [
        "from random import randrange\n",
        "\n",
        "r = data.iloc[randrange(data.shape[0])]\n",
        "\n",
        "\n",
        "print(r['req'])\n",
        "print('\\n\\n\\n\\n\\n\\n\\n\\n\\n\\n\\n\\n\\n')\n",
        "print(r['links'])"
      ],
      "execution_count": 25,
      "outputs": [
        {
          "output_type": "stream",
          "text": [
            "Selecting appropriate page lengths The length of a page should be selected so as to support the primary purpose and use of the page.\n",
            "\n",
            "\n",
            "\n",
            "\n",
            "\n",
            "\n",
            "\n",
            "\n",
            "\n",
            "\n",
            "\n",
            "\n",
            "\n",
            "\n",
            "36\n"
          ],
          "name": "stdout"
        }
      ]
    },
    {
      "cell_type": "code",
      "metadata": {
        "colab": {
          "base_uri": "https://localhost:8080/",
          "height": 300
        },
        "id": "g2ZFCSHKMdKG",
        "outputId": "e0507779-e351-4042-9f56-27c638d4d596"
      },
      "source": [
        "data.describe().apply(lambda s: s.apply('{0:.1f}'.format))"
      ],
      "execution_count": 26,
      "outputs": [
        {
          "output_type": "execute_result",
          "data": {
            "text/html": [
              "<div>\n",
              "<style scoped>\n",
              "    .dataframe tbody tr th:only-of-type {\n",
              "        vertical-align: middle;\n",
              "    }\n",
              "\n",
              "    .dataframe tbody tr th {\n",
              "        vertical-align: top;\n",
              "    }\n",
              "\n",
              "    .dataframe thead th {\n",
              "        text-align: right;\n",
              "    }\n",
              "</style>\n",
              "<table border=\"1\" class=\"dataframe\">\n",
              "  <thead>\n",
              "    <tr style=\"text-align: right;\">\n",
              "      <th></th>\n",
              "      <th>links</th>\n",
              "    </tr>\n",
              "  </thead>\n",
              "  <tbody>\n",
              "    <tr>\n",
              "      <th>count</th>\n",
              "      <td>5291.0</td>\n",
              "    </tr>\n",
              "    <tr>\n",
              "      <th>mean</th>\n",
              "      <td>312610.5</td>\n",
              "    </tr>\n",
              "    <tr>\n",
              "      <th>std</th>\n",
              "      <td>13425401.3</td>\n",
              "    </tr>\n",
              "    <tr>\n",
              "      <th>min</th>\n",
              "      <td>1.0</td>\n",
              "    </tr>\n",
              "    <tr>\n",
              "      <th>25%</th>\n",
              "      <td>5.0</td>\n",
              "    </tr>\n",
              "    <tr>\n",
              "      <th>50%</th>\n",
              "      <td>23.0</td>\n",
              "    </tr>\n",
              "    <tr>\n",
              "      <th>75%</th>\n",
              "      <td>147.0</td>\n",
              "    </tr>\n",
              "    <tr>\n",
              "      <th>max</th>\n",
              "      <td>933353585.0</td>\n",
              "    </tr>\n",
              "  </tbody>\n",
              "</table>\n",
              "</div>"
            ],
            "text/plain": [
              "             links\n",
              "count       5291.0\n",
              "mean      312610.5\n",
              "std     13425401.3\n",
              "min            1.0\n",
              "25%            5.0\n",
              "50%           23.0\n",
              "75%          147.0\n",
              "max    933353585.0"
            ]
          },
          "metadata": {
            "tags": []
          },
          "execution_count": 26
        }
      ]
    },
    {
      "cell_type": "code",
      "metadata": {
        "colab": {
          "base_uri": "https://localhost:8080/",
          "height": 259
        },
        "id": "_j1qaaSKNmv9",
        "outputId": "2e79d076-5ecf-48f5-be49-4944bba6aed8"
      },
      "source": [
        "import matplotlib.pyplot as plt\n",
        "\n",
        "plt.boxplot(data['links'])\n",
        "plt.tick_params(axis='x', which='both', bottom=False, labelbottom=False)\n",
        "plt.ylabel('links')\n",
        "plt.show()"
      ],
      "execution_count": 27,
      "outputs": [
        {
          "output_type": "display_data",
          "data": {
            "image/png": "[encoded data removed]",
            "text/plain": [
              "<Figure size 432x288 with 1 Axes>"
            ]
          },
          "metadata": {
            "tags": [],
            "needs_background": "light"
          }
        }
      ]
    },
    {
      "cell_type": "code",
      "metadata": {
        "colab": {
          "base_uri": "https://localhost:8080/",
          "height": 424
        },
        "id": "YbTl9a4fN8d0",
        "outputId": "db776a9c-fd1a-40d0-aa1d-28686153f037"
      },
      "source": [
        "import sys\n",
        "\n",
        "def add_groups(df):\n",
        "  bins = [0, 10, 100, 1_000, 10_000, sys.maxsize]\n",
        "  labels = ['<10', '10-100', '100-1000', '1000-10000', '>10000']\n",
        "  group = pd.cut(df['links'], bins=bins, labels=labels)\n",
        "  df['group'] = group\n",
        "  return df\n",
        "\n",
        "add_groups(data)\n",
        "\n",
        "data.sort_values(by='links', ascending=False)"
      ],
      "execution_count": 28,
      "outputs": [
        {
          "output_type": "execute_result",
          "data": {
            "text/html": [
              "<div>\n",
              "<style scoped>\n",
              "    .dataframe tbody tr th:only-of-type {\n",
              "        vertical-align: middle;\n",
              "    }\n",
              "\n",
              "    .dataframe tbody tr th {\n",
              "        vertical-align: top;\n",
              "    }\n",
              "\n",
              "    .dataframe thead th {\n",
              "        text-align: right;\n",
              "    }\n",
              "</style>\n",
              "<table border=\"1\" class=\"dataframe\">\n",
              "  <thead>\n",
              "    <tr style=\"text-align: right;\">\n",
              "      <th></th>\n",
              "      <th>links</th>\n",
              "      <th>req</th>\n",
              "      <th>group</th>\n",
              "    </tr>\n",
              "  </thead>\n",
              "  <tbody>\n",
              "    <tr>\n",
              "      <th>5222</th>\n",
              "      <td>933353585</td>\n",
              "      <td>Upon receipt of a new or modified flight route...</td>\n",
              "      <td>&gt;10000</td>\n",
              "    </tr>\n",
              "    <tr>\n",
              "      <th>1685</th>\n",
              "      <td>200435096</td>\n",
              "      <td>Mapping interfaces and data dictionaries must ...</td>\n",
              "      <td>&gt;10000</td>\n",
              "    </tr>\n",
              "    <tr>\n",
              "      <th>736</th>\n",
              "      <td>166364820</td>\n",
              "      <td>If the temperature setting value is strictly l...</td>\n",
              "      <td>&gt;10000</td>\n",
              "    </tr>\n",
              "    <tr>\n",
              "      <th>3880</th>\n",
              "      <td>102094840</td>\n",
              "      <td>As a moderator, I want to select whether to ha...</td>\n",
              "      <td>&gt;10000</td>\n",
              "    </tr>\n",
              "    <tr>\n",
              "      <th>2111</th>\n",
              "      <td>40168190</td>\n",
              "      <td>This may include creating contracting authorit...</td>\n",
              "      <td>&gt;10000</td>\n",
              "    </tr>\n",
              "    <tr>\n",
              "      <th>...</th>\n",
              "      <td>...</td>\n",
              "      <td>...</td>\n",
              "      <td>...</td>\n",
              "    </tr>\n",
              "    <tr>\n",
              "      <th>625</th>\n",
              "      <td>1</td>\n",
              "      <td>The on line databases can be considered part o...</td>\n",
              "      <td>&lt;10</td>\n",
              "    </tr>\n",
              "    <tr>\n",
              "      <th>2755</th>\n",
              "      <td>1</td>\n",
              "      <td>The product must make use of web or applicatio...</td>\n",
              "      <td>&lt;10</td>\n",
              "    </tr>\n",
              "    <tr>\n",
              "      <th>4348</th>\n",
              "      <td>1</td>\n",
              "      <td>As a trainee, I want to limit to one registrat...</td>\n",
              "      <td>&lt;10</td>\n",
              "    </tr>\n",
              "    <tr>\n",
              "      <th>3722</th>\n",
              "      <td>1</td>\n",
              "      <td>As a member, I want to receive a reminder and ...</td>\n",
              "      <td>&lt;10</td>\n",
              "    </tr>\n",
              "    <tr>\n",
              "      <th>2319</th>\n",
              "      <td>1</td>\n",
              "      <td>The system shall authenticate user credentials...</td>\n",
              "      <td>&lt;10</td>\n",
              "    </tr>\n",
              "  </tbody>\n",
              "</table>\n",
              "<p>5291 rows × 3 columns</p>\n",
              "</div>"
            ],
            "text/plain": [
              "          links                                                req   group\n",
              "5222  933353585  Upon receipt of a new or modified flight route...  >10000\n",
              "1685  200435096  Mapping interfaces and data dictionaries must ...  >10000\n",
              "736   166364820  If the temperature setting value is strictly l...  >10000\n",
              "3880  102094840  As a moderator, I want to select whether to ha...  >10000\n",
              "2111   40168190  This may include creating contracting authorit...  >10000\n",
              "...         ...                                                ...     ...\n",
              "625           1  The on line databases can be considered part o...     <10\n",
              "2755          1  The product must make use of web or applicatio...     <10\n",
              "4348          1  As a trainee, I want to limit to one registrat...     <10\n",
              "3722          1  As a member, I want to receive a reminder and ...     <10\n",
              "2319          1  The system shall authenticate user credentials...     <10\n",
              "\n",
              "[5291 rows x 3 columns]"
            ]
          },
          "metadata": {
            "tags": []
          },
          "execution_count": 28
        }
      ]
    },
    {
      "cell_type": "code",
      "metadata": {
        "colab": {
          "base_uri": "https://localhost:8080/",
          "height": 319
        },
        "id": "GCQXk9g9QVVU",
        "outputId": "2270329b-0672-488f-c07d-43b12f86c849"
      },
      "source": [
        "by_group = data.groupby('group')\n",
        "\n",
        "groups = by_group['links'].count()\n",
        "\n",
        "plt.bar(groups.index, groups, 1, color=['tab:blue', 'tab:orange', 'tab:green', 'tab:red', 'tab:purple'])\n",
        "plt.xlabel(\"Rango\")\n",
        "plt.ylabel(\"Número de Requisitos\")\n",
        "plt.xticks(rotation=45)\n",
        "\n",
        "plt.show()"
      ],
      "execution_count": 29,
      "outputs": [
        {
          "output_type": "display_data",
          "data": {
            "image/png": "[encoded data removed]",
            "text/plain": [
              "<Figure size 432x288 with 1 Axes>"
            ]
          },
          "metadata": {
            "tags": [],
            "needs_background": "light"
          }
        }
      ]
    },
    {
      "cell_type": "code",
      "metadata": {
        "colab": {
          "base_uri": "https://localhost:8080/",
          "height": 252
        },
        "id": "X69r2jYiR3wK",
        "outputId": "7d7b8b05-629a-4f05-b78f-67be6bd8b36c"
      },
      "source": [
        "fig1, ax1 = plt.subplots()\n",
        "ax1.pie(groups, labels=groups.index, autopct='%1.1f%%',\n",
        "        shadow=True, startangle=90, rotatelabels=False, pctdistance=0.85)\n",
        "ax1.axis('equal')\n",
        "\n",
        "plt.show()"
      ],
      "execution_count": 30,
      "outputs": [
        {
          "output_type": "display_data",
          "data": {
            "image/png": "[encoded data removed]",
            "text/plain": [
              "<Figure size 432x288 with 1 Axes>"
            ]
          },
          "metadata": {
            "tags": []
          }
        }
      ]
    },
    {
      "cell_type": "code",
      "metadata": {
        "colab": {
          "base_uri": "https://localhost:8080/",
          "height": 424
        },
        "id": "XYRKCZTYSk8x",
        "outputId": "0c41f4e3-d90c-4ceb-bc56-b386fc03e6da"
      },
      "source": [
        "def add_groups_2(df):\n",
        "  bins = [0, 11, 120, sys.maxsize] # 8, 77\n",
        "  labels = ['baja', 'moderada', 'alta']\n",
        "  group = pd.cut(df['links'], bins=bins, labels=labels)\n",
        "  df['group_2'] = group\n",
        "  return df\n",
        "\n",
        "add_groups_2(data)"
      ],
      "execution_count": 31,
      "outputs": [
        {
          "output_type": "execute_result",
          "data": {
            "text/html": [
              "<div>\n",
              "<style scoped>\n",
              "    .dataframe tbody tr th:only-of-type {\n",
              "        vertical-align: middle;\n",
              "    }\n",
              "\n",
              "    .dataframe tbody tr th {\n",
              "        vertical-align: top;\n",
              "    }\n",
              "\n",
              "    .dataframe thead th {\n",
              "        text-align: right;\n",
              "    }\n",
              "</style>\n",
              "<table border=\"1\" class=\"dataframe\">\n",
              "  <thead>\n",
              "    <tr style=\"text-align: right;\">\n",
              "      <th></th>\n",
              "      <th>links</th>\n",
              "      <th>req</th>\n",
              "      <th>group</th>\n",
              "      <th>group_2</th>\n",
              "    </tr>\n",
              "  </thead>\n",
              "  <tbody>\n",
              "    <tr>\n",
              "      <th>0</th>\n",
              "      <td>198</td>\n",
              "      <td>The solution should provide detailed context s...</td>\n",
              "      <td>100-1000</td>\n",
              "      <td>alta</td>\n",
              "    </tr>\n",
              "    <tr>\n",
              "      <th>1</th>\n",
              "      <td>282</td>\n",
              "      <td>The solution should provide an interface for t...</td>\n",
              "      <td>100-1000</td>\n",
              "      <td>alta</td>\n",
              "    </tr>\n",
              "    <tr>\n",
              "      <th>2</th>\n",
              "      <td>34</td>\n",
              "      <td>The solution should send alerts (for example, ...</td>\n",
              "      <td>10-100</td>\n",
              "      <td>moderada</td>\n",
              "    </tr>\n",
              "    <tr>\n",
              "      <th>3</th>\n",
              "      <td>8</td>\n",
              "      <td>The solution should enable the user to track t...</td>\n",
              "      <td>&lt;10</td>\n",
              "      <td>baja</td>\n",
              "    </tr>\n",
              "    <tr>\n",
              "      <th>4</th>\n",
              "      <td>401597</td>\n",
              "      <td>The solution should enable the help desk user ...</td>\n",
              "      <td>&gt;10000</td>\n",
              "      <td>alta</td>\n",
              "    </tr>\n",
              "    <tr>\n",
              "      <th>...</th>\n",
              "      <td>...</td>\n",
              "      <td>...</td>\n",
              "      <td>...</td>\n",
              "      <td>...</td>\n",
              "    </tr>\n",
              "    <tr>\n",
              "      <th>5286</th>\n",
              "      <td>120</td>\n",
              "      <td>A client shall register with the User Interfac...</td>\n",
              "      <td>100-1000</td>\n",
              "      <td>moderada</td>\n",
              "    </tr>\n",
              "    <tr>\n",
              "      <th>5287</th>\n",
              "      <td>192</td>\n",
              "      <td>A client shall register with the User Interfac...</td>\n",
              "      <td>100-1000</td>\n",
              "      <td>alta</td>\n",
              "    </tr>\n",
              "    <tr>\n",
              "      <th>5288</th>\n",
              "      <td>60</td>\n",
              "      <td>A client shall register with the User Interfac...</td>\n",
              "      <td>10-100</td>\n",
              "      <td>moderada</td>\n",
              "    </tr>\n",
              "    <tr>\n",
              "      <th>5289</th>\n",
              "      <td>16</td>\n",
              "      <td>If a client registers for notifications the Us...</td>\n",
              "      <td>10-100</td>\n",
              "      <td>moderada</td>\n",
              "    </tr>\n",
              "    <tr>\n",
              "      <th>5290</th>\n",
              "      <td>120</td>\n",
              "      <td>When requested the Vehicle Core shall transiti...</td>\n",
              "      <td>100-1000</td>\n",
              "      <td>moderada</td>\n",
              "    </tr>\n",
              "  </tbody>\n",
              "</table>\n",
              "<p>5291 rows × 4 columns</p>\n",
              "</div>"
            ],
            "text/plain": [
              "       links  ...   group_2\n",
              "0        198  ...      alta\n",
              "1        282  ...      alta\n",
              "2         34  ...  moderada\n",
              "3          8  ...      baja\n",
              "4     401597  ...      alta\n",
              "...      ...  ...       ...\n",
              "5286     120  ...  moderada\n",
              "5287     192  ...      alta\n",
              "5288      60  ...  moderada\n",
              "5289      16  ...  moderada\n",
              "5290     120  ...  moderada\n",
              "\n",
              "[5291 rows x 4 columns]"
            ]
          },
          "metadata": {
            "tags": []
          },
          "execution_count": 31
        }
      ]
    },
    {
      "cell_type": "code",
      "metadata": {
        "colab": {
          "base_uri": "https://localhost:8080/",
          "height": 312
        },
        "id": "TMlOIPEzSwrC",
        "outputId": "46c1243c-c1b0-4c68-ccd9-3fae810213d8"
      },
      "source": [
        "by_group = data.groupby('group_2')\n",
        "\n",
        "groups = by_group['links'].count()\n",
        "\n",
        "plt.bar(groups.index, groups, 1, color=['tab:blue', 'tab:orange', 'tab:green'])\n",
        "plt.xlabel(\"Grado de Ambigüedad\")\n",
        "plt.ylabel(\"Número de Requisitos\")\n",
        "plt.xticks(rotation=45)\n",
        "\n",
        "plt.show()"
      ],
      "execution_count": 32,
      "outputs": [
        {
          "output_type": "display_data",
          "data": {
            "image/png": "[encoded data removed]",
            "text/plain": [
              "<Figure size 432x288 with 1 Axes>"
            ]
          },
          "metadata": {
            "tags": [],
            "needs_background": "light"
          }
        }
      ]
    },
    {
      "cell_type": "code",
      "metadata": {
        "colab": {
          "base_uri": "https://localhost:8080/",
          "height": 248
        },
        "id": "wgf1y1UWT11I",
        "outputId": "71e34c55-9a38-4452-d972-1b6e90a2edc0"
      },
      "source": [
        "fig1, ax1 = plt.subplots()\n",
        "ax1.pie(groups, labels=groups.index, shadow=True, autopct='%1.1f%%', startangle=90)\n",
        "ax1.axis('equal')  # Equal aspect ratio ensures that pie is drawn as a circle.\n",
        "\n",
        "plt.show()"
      ],
      "execution_count": 33,
      "outputs": [
        {
          "output_type": "display_data",
          "data": {
            "image/png": "[encoded data removed]",
            "text/plain": [
              "<Figure size 432x288 with 1 Axes>"
            ]
          },
          "metadata": {
            "tags": []
          }
        }
      ]
    },
    {
      "cell_type": "code",
      "metadata": {
        "colab": {
          "base_uri": "https://localhost:8080/",
          "height": 424
        },
        "id": "08WBYZexXfDx",
        "outputId": "c3f87af9-8b0b-40df-ebd2-c47a48fad89e"
      },
      "source": [
        "def word_count(req):\n",
        "  result = len(req.split())\n",
        "  return pd.Series(result, index=['word_count'])\n",
        "\n",
        "def add_word_count(df, col):\n",
        "  wc = df[col].apply(word_count)\n",
        "  df[wc.columns] = wc\n",
        "\n",
        "  return df\n",
        "\n",
        "add_word_count(data, 'req')"
      ],
      "execution_count": 34,
      "outputs": [
        {
          "output_type": "execute_result",
          "data": {
            "text/html": [
              "<div>\n",
              "<style scoped>\n",
              "    .dataframe tbody tr th:only-of-type {\n",
              "        vertical-align: middle;\n",
              "    }\n",
              "\n",
              "    .dataframe tbody tr th {\n",
              "        vertical-align: top;\n",
              "    }\n",
              "\n",
              "    .dataframe thead th {\n",
              "        text-align: right;\n",
              "    }\n",
              "</style>\n",
              "<table border=\"1\" class=\"dataframe\">\n",
              "  <thead>\n",
              "    <tr style=\"text-align: right;\">\n",
              "      <th></th>\n",
              "      <th>links</th>\n",
              "      <th>req</th>\n",
              "      <th>group</th>\n",
              "      <th>group_2</th>\n",
              "      <th>word_count</th>\n",
              "    </tr>\n",
              "  </thead>\n",
              "  <tbody>\n",
              "    <tr>\n",
              "      <th>0</th>\n",
              "      <td>198</td>\n",
              "      <td>The solution should provide detailed context s...</td>\n",
              "      <td>100-1000</td>\n",
              "      <td>alta</td>\n",
              "      <td>23</td>\n",
              "    </tr>\n",
              "    <tr>\n",
              "      <th>1</th>\n",
              "      <td>282</td>\n",
              "      <td>The solution should provide an interface for t...</td>\n",
              "      <td>100-1000</td>\n",
              "      <td>alta</td>\n",
              "      <td>22</td>\n",
              "    </tr>\n",
              "    <tr>\n",
              "      <th>2</th>\n",
              "      <td>34</td>\n",
              "      <td>The solution should send alerts (for example, ...</td>\n",
              "      <td>10-100</td>\n",
              "      <td>moderada</td>\n",
              "      <td>26</td>\n",
              "    </tr>\n",
              "    <tr>\n",
              "      <th>3</th>\n",
              "      <td>8</td>\n",
              "      <td>The solution should enable the user to track t...</td>\n",
              "      <td>&lt;10</td>\n",
              "      <td>baja</td>\n",
              "      <td>14</td>\n",
              "    </tr>\n",
              "    <tr>\n",
              "      <th>4</th>\n",
              "      <td>401597</td>\n",
              "      <td>The solution should enable the help desk user ...</td>\n",
              "      <td>&gt;10000</td>\n",
              "      <td>alta</td>\n",
              "      <td>26</td>\n",
              "    </tr>\n",
              "    <tr>\n",
              "      <th>...</th>\n",
              "      <td>...</td>\n",
              "      <td>...</td>\n",
              "      <td>...</td>\n",
              "      <td>...</td>\n",
              "      <td>...</td>\n",
              "    </tr>\n",
              "    <tr>\n",
              "      <th>5286</th>\n",
              "      <td>120</td>\n",
              "      <td>A client shall register with the User Interfac...</td>\n",
              "      <td>100-1000</td>\n",
              "      <td>moderada</td>\n",
              "      <td>25</td>\n",
              "    </tr>\n",
              "    <tr>\n",
              "      <th>5287</th>\n",
              "      <td>192</td>\n",
              "      <td>A client shall register with the User Interfac...</td>\n",
              "      <td>100-1000</td>\n",
              "      <td>alta</td>\n",
              "      <td>30</td>\n",
              "    </tr>\n",
              "    <tr>\n",
              "      <th>5288</th>\n",
              "      <td>60</td>\n",
              "      <td>A client shall register with the User Interfac...</td>\n",
              "      <td>10-100</td>\n",
              "      <td>moderada</td>\n",
              "      <td>24</td>\n",
              "    </tr>\n",
              "    <tr>\n",
              "      <th>5289</th>\n",
              "      <td>16</td>\n",
              "      <td>If a client registers for notifications the Us...</td>\n",
              "      <td>10-100</td>\n",
              "      <td>moderada</td>\n",
              "      <td>16</td>\n",
              "    </tr>\n",
              "    <tr>\n",
              "      <th>5290</th>\n",
              "      <td>120</td>\n",
              "      <td>When requested the Vehicle Core shall transiti...</td>\n",
              "      <td>100-1000</td>\n",
              "      <td>moderada</td>\n",
              "      <td>28</td>\n",
              "    </tr>\n",
              "  </tbody>\n",
              "</table>\n",
              "<p>5291 rows × 5 columns</p>\n",
              "</div>"
            ],
            "text/plain": [
              "       links  ... word_count\n",
              "0        198  ...         23\n",
              "1        282  ...         22\n",
              "2         34  ...         26\n",
              "3          8  ...         14\n",
              "4     401597  ...         26\n",
              "...      ...  ...        ...\n",
              "5286     120  ...         25\n",
              "5287     192  ...         30\n",
              "5288      60  ...         24\n",
              "5289      16  ...         16\n",
              "5290     120  ...         28\n",
              "\n",
              "[5291 rows x 5 columns]"
            ]
          },
          "metadata": {
            "tags": []
          },
          "execution_count": 34
        }
      ]
    },
    {
      "cell_type": "code",
      "metadata": {
        "colab": {
          "base_uri": "https://localhost:8080/"
        },
        "id": "hDb9bWWtaAlD",
        "outputId": "30db22e9-4210-44ce-8020-729fdbe94f9b"
      },
      "source": [
        "data.dtypes"
      ],
      "execution_count": 35,
      "outputs": [
        {
          "output_type": "execute_result",
          "data": {
            "text/plain": [
              "links            int64\n",
              "req             object\n",
              "group         category\n",
              "group_2       category\n",
              "word_count       int64\n",
              "dtype: object"
            ]
          },
          "metadata": {
            "tags": []
          },
          "execution_count": 35
        }
      ]
    },
    {
      "cell_type": "code",
      "metadata": {
        "colab": {
          "base_uri": "https://localhost:8080/",
          "height": 424
        },
        "id": "SrqYsPC9aI8_",
        "outputId": "833f0d07-a0ba-4728-e5b8-0cd59246fe23"
      },
      "source": [
        "# https://pbpython.com/categorical-encoding.html\n",
        "\n",
        "data[\"group_cat\"] = data[\"group\"].cat.codes\n",
        "data[\"group_2_cat\"] = data[\"group_2\"].cat.codes\n",
        "\n",
        "data"
      ],
      "execution_count": 36,
      "outputs": [
        {
          "output_type": "execute_result",
          "data": {
            "text/html": [
              "<div>\n",
              "<style scoped>\n",
              "    .dataframe tbody tr th:only-of-type {\n",
              "        vertical-align: middle;\n",
              "    }\n",
              "\n",
              "    .dataframe tbody tr th {\n",
              "        vertical-align: top;\n",
              "    }\n",
              "\n",
              "    .dataframe thead th {\n",
              "        text-align: right;\n",
              "    }\n",
              "</style>\n",
              "<table border=\"1\" class=\"dataframe\">\n",
              "  <thead>\n",
              "    <tr style=\"text-align: right;\">\n",
              "      <th></th>\n",
              "      <th>links</th>\n",
              "      <th>req</th>\n",
              "      <th>group</th>\n",
              "      <th>group_2</th>\n",
              "      <th>word_count</th>\n",
              "      <th>group_cat</th>\n",
              "      <th>group_2_cat</th>\n",
              "    </tr>\n",
              "  </thead>\n",
              "  <tbody>\n",
              "    <tr>\n",
              "      <th>0</th>\n",
              "      <td>198</td>\n",
              "      <td>The solution should provide detailed context s...</td>\n",
              "      <td>100-1000</td>\n",
              "      <td>alta</td>\n",
              "      <td>23</td>\n",
              "      <td>2</td>\n",
              "      <td>2</td>\n",
              "    </tr>\n",
              "    <tr>\n",
              "      <th>1</th>\n",
              "      <td>282</td>\n",
              "      <td>The solution should provide an interface for t...</td>\n",
              "      <td>100-1000</td>\n",
              "      <td>alta</td>\n",
              "      <td>22</td>\n",
              "      <td>2</td>\n",
              "      <td>2</td>\n",
              "    </tr>\n",
              "    <tr>\n",
              "      <th>2</th>\n",
              "      <td>34</td>\n",
              "      <td>The solution should send alerts (for example, ...</td>\n",
              "      <td>10-100</td>\n",
              "      <td>moderada</td>\n",
              "      <td>26</td>\n",
              "      <td>1</td>\n",
              "      <td>1</td>\n",
              "    </tr>\n",
              "    <tr>\n",
              "      <th>3</th>\n",
              "      <td>8</td>\n",
              "      <td>The solution should enable the user to track t...</td>\n",
              "      <td>&lt;10</td>\n",
              "      <td>baja</td>\n",
              "      <td>14</td>\n",
              "      <td>0</td>\n",
              "      <td>0</td>\n",
              "    </tr>\n",
              "    <tr>\n",
              "      <th>4</th>\n",
              "      <td>401597</td>\n",
              "      <td>The solution should enable the help desk user ...</td>\n",
              "      <td>&gt;10000</td>\n",
              "      <td>alta</td>\n",
              "      <td>26</td>\n",
              "      <td>4</td>\n",
              "      <td>2</td>\n",
              "    </tr>\n",
              "    <tr>\n",
              "      <th>...</th>\n",
              "      <td>...</td>\n",
              "      <td>...</td>\n",
              "      <td>...</td>\n",
              "      <td>...</td>\n",
              "      <td>...</td>\n",
              "      <td>...</td>\n",
              "      <td>...</td>\n",
              "    </tr>\n",
              "    <tr>\n",
              "      <th>5286</th>\n",
              "      <td>120</td>\n",
              "      <td>A client shall register with the User Interfac...</td>\n",
              "      <td>100-1000</td>\n",
              "      <td>moderada</td>\n",
              "      <td>25</td>\n",
              "      <td>2</td>\n",
              "      <td>1</td>\n",
              "    </tr>\n",
              "    <tr>\n",
              "      <th>5287</th>\n",
              "      <td>192</td>\n",
              "      <td>A client shall register with the User Interfac...</td>\n",
              "      <td>100-1000</td>\n",
              "      <td>alta</td>\n",
              "      <td>30</td>\n",
              "      <td>2</td>\n",
              "      <td>2</td>\n",
              "    </tr>\n",
              "    <tr>\n",
              "      <th>5288</th>\n",
              "      <td>60</td>\n",
              "      <td>A client shall register with the User Interfac...</td>\n",
              "      <td>10-100</td>\n",
              "      <td>moderada</td>\n",
              "      <td>24</td>\n",
              "      <td>1</td>\n",
              "      <td>1</td>\n",
              "    </tr>\n",
              "    <tr>\n",
              "      <th>5289</th>\n",
              "      <td>16</td>\n",
              "      <td>If a client registers for notifications the Us...</td>\n",
              "      <td>10-100</td>\n",
              "      <td>moderada</td>\n",
              "      <td>16</td>\n",
              "      <td>1</td>\n",
              "      <td>1</td>\n",
              "    </tr>\n",
              "    <tr>\n",
              "      <th>5290</th>\n",
              "      <td>120</td>\n",
              "      <td>When requested the Vehicle Core shall transiti...</td>\n",
              "      <td>100-1000</td>\n",
              "      <td>moderada</td>\n",
              "      <td>28</td>\n",
              "      <td>2</td>\n",
              "      <td>1</td>\n",
              "    </tr>\n",
              "  </tbody>\n",
              "</table>\n",
              "<p>5291 rows × 7 columns</p>\n",
              "</div>"
            ],
            "text/plain": [
              "       links  ... group_2_cat\n",
              "0        198  ...           2\n",
              "1        282  ...           2\n",
              "2         34  ...           1\n",
              "3          8  ...           0\n",
              "4     401597  ...           2\n",
              "...      ...  ...         ...\n",
              "5286     120  ...           1\n",
              "5287     192  ...           2\n",
              "5288      60  ...           1\n",
              "5289      16  ...           1\n",
              "5290     120  ...           1\n",
              "\n",
              "[5291 rows x 7 columns]"
            ]
          },
          "metadata": {
            "tags": []
          },
          "execution_count": 36
        }
      ]
    },
    {
      "cell_type": "code",
      "metadata": {
        "colab": {
          "base_uri": "https://localhost:8080/",
          "height": 298
        },
        "id": "f8m-MsmTaikX",
        "outputId": "75882bb1-8c93-4f4e-a1d2-a8acd35f9edc"
      },
      "source": [
        "import seaborn as sns\n",
        "\n",
        "sns.scatterplot(data=data, x=\"word_count\", y=\"group\")"
      ],
      "execution_count": 37,
      "outputs": [
        {
          "output_type": "execute_result",
          "data": {
            "text/plain": [
              "<matplotlib.axes._subplots.AxesSubplot at 0x7f6b1fd0b590>"
            ]
          },
          "metadata": {
            "tags": []
          },
          "execution_count": 37
        },
        {
          "output_type": "display_data",
          "data": {
            "image/png": "[encoded data removed]",
            "text/plain": [
              "<Figure size 432x288 with 1 Axes>"
            ]
          },
          "metadata": {
            "tags": [],
            "needs_background": "light"
          }
        }
      ]
    },
    {
      "cell_type": "code",
      "metadata": {
        "colab": {
          "base_uri": "https://localhost:8080/",
          "height": 298
        },
        "id": "JFKUWy3kbbMX",
        "outputId": "d680e251-ed78-4d30-e257-e4671300747e"
      },
      "source": [
        "sns.scatterplot(data=data, x=\"word_count\", y=\"group_2\")"
      ],
      "execution_count": 38,
      "outputs": [
        {
          "output_type": "execute_result",
          "data": {
            "text/plain": [
              "<matplotlib.axes._subplots.AxesSubplot at 0x7f6b6ef57610>"
            ]
          },
          "metadata": {
            "tags": []
          },
          "execution_count": 38
        },
        {
          "output_type": "display_data",
          "data": {
            "image/png": "[encoded data removed]",
            "text/plain": [
              "<Figure size 432x288 with 1 Axes>"
            ]
          },
          "metadata": {
            "tags": [],
            "needs_background": "light"
          }
        }
      ]
    },
    {
      "cell_type": "code",
      "metadata": {
        "colab": {
          "base_uri": "https://localhost:8080/"
        },
        "id": "ZXDcD9gZ6wHD",
        "outputId": "854e152a-dafb-4074-cb31-7df8170d8213"
      },
      "source": [
        "from keras.preprocessing.text import Tokenizer\n",
        "\n",
        "tokenizer = Tokenizer(num_words=7000)\n",
        "tokenizer.fit_on_texts(data['req'])\n",
        "\n",
        "print(\"Numero de palabras diferentes en el corpus\")\n",
        "len(tokenizer.word_index)"
      ],
      "execution_count": 39,
      "outputs": [
        {
          "output_type": "stream",
          "text": [
            "Numero de palabras diferentes en el corpus\n"
          ],
          "name": "stdout"
        },
        {
          "output_type": "execute_result",
          "data": {
            "text/plain": [
              "6386"
            ]
          },
          "metadata": {
            "tags": []
          },
          "execution_count": 39
        }
      ]
    },
    {
      "cell_type": "code",
      "metadata": {
        "colab": {
          "base_uri": "https://localhost:8080/"
        },
        "id": "y65hAdI2ArVq",
        "outputId": "f48731fa-2fec-4755-e8e8-377e5c472f77"
      },
      "source": [
        "data['word_count'].sum()"
      ],
      "execution_count": 40,
      "outputs": [
        {
          "output_type": "execute_result",
          "data": {
            "text/plain": [
              "109789"
            ]
          },
          "metadata": {
            "tags": []
          },
          "execution_count": 40
        }
      ]
    },
    {
      "cell_type": "code",
      "metadata": {
        "colab": {
          "base_uri": "https://localhost:8080/"
        },
        "id": "2Q9RfpafBK1C",
        "outputId": "b9284dc2-6540-45cd-c985-2c7757d7737f"
      },
      "source": [
        "data['word_count'].mean()"
      ],
      "execution_count": 41,
      "outputs": [
        {
          "output_type": "execute_result",
          "data": {
            "text/plain": [
              "20.75014175014175"
            ]
          },
          "metadata": {
            "tags": []
          },
          "execution_count": 41
        }
      ]
    },
    {
      "cell_type": "code",
      "metadata": {
        "colab": {
          "base_uri": "https://localhost:8080/"
        },
        "id": "xv6fzSPLBakQ",
        "outputId": "9937116d-b41c-4834-844d-00cfef3f2463"
      },
      "source": [
        "data['word_count'].max()"
      ],
      "execution_count": 42,
      "outputs": [
        {
          "output_type": "execute_result",
          "data": {
            "text/plain": [
              "67"
            ]
          },
          "metadata": {
            "tags": []
          },
          "execution_count": 42
        }
      ]
    },
    {
      "cell_type": "code",
      "metadata": {
        "colab": {
          "base_uri": "https://localhost:8080/"
        },
        "id": "yoN-qS9NBdYR",
        "outputId": "0aba7c6f-2e7e-43ab-b237-600561ce0cf1"
      },
      "source": [
        "data['word_count'].min()"
      ],
      "execution_count": 43,
      "outputs": [
        {
          "output_type": "execute_result",
          "data": {
            "text/plain": [
              "5"
            ]
          },
          "metadata": {
            "tags": []
          },
          "execution_count": 43
        }
      ]
    },
    {
      "cell_type": "code",
      "metadata": {
        "colab": {
          "base_uri": "https://localhost:8080/",
          "height": 280
        },
        "id": "rMy12FM9D8iz",
        "outputId": "1a6d0dcc-5f52-4352-8509-6636779638a0"
      },
      "source": [
        "plt.boxplot(data['word_count'], vert=False)\n",
        "plt.tick_params(axis='y', labelleft=False, left=False, bottom=False, labelbottom=False)\n",
        "plt.xlabel('Número de Palabras por Requisito')\n",
        "plt.show()"
      ],
      "execution_count": 44,
      "outputs": [
        {
          "output_type": "display_data",
          "data": {
            "image/png": "[encoded data removed]",
            "text/plain": [
              "<Figure size 432x288 with 1 Axes>"
            ]
          },
          "metadata": {
            "tags": [],
            "needs_background": "light"
          }
        }
      ]
    },
    {
      "cell_type": "code",
      "metadata": {
        "colab": {
          "base_uri": "https://localhost:8080/",
          "height": 300
        },
        "id": "aV9Q8UBpGYEo",
        "outputId": "a4084667-0f8a-4909-e140-98a1654910be"
      },
      "source": [
        "data.describe()"
      ],
      "execution_count": 45,
      "outputs": [
        {
          "output_type": "execute_result",
          "data": {
            "text/html": [
              "<div>\n",
              "<style scoped>\n",
              "    .dataframe tbody tr th:only-of-type {\n",
              "        vertical-align: middle;\n",
              "    }\n",
              "\n",
              "    .dataframe tbody tr th {\n",
              "        vertical-align: top;\n",
              "    }\n",
              "\n",
              "    .dataframe thead th {\n",
              "        text-align: right;\n",
              "    }\n",
              "</style>\n",
              "<table border=\"1\" class=\"dataframe\">\n",
              "  <thead>\n",
              "    <tr style=\"text-align: right;\">\n",
              "      <th></th>\n",
              "      <th>links</th>\n",
              "      <th>word_count</th>\n",
              "      <th>group_cat</th>\n",
              "      <th>group_2_cat</th>\n",
              "    </tr>\n",
              "  </thead>\n",
              "  <tbody>\n",
              "    <tr>\n",
              "      <th>count</th>\n",
              "      <td>5.291000e+03</td>\n",
              "      <td>5291.000000</td>\n",
              "      <td>5291.000000</td>\n",
              "      <td>5291.000000</td>\n",
              "    </tr>\n",
              "    <tr>\n",
              "      <th>mean</th>\n",
              "      <td>3.126105e+05</td>\n",
              "      <td>20.750142</td>\n",
              "      <td>1.092799</td>\n",
              "      <td>0.883765</td>\n",
              "    </tr>\n",
              "    <tr>\n",
              "      <th>std</th>\n",
              "      <td>1.342540e+07</td>\n",
              "      <td>8.522423</td>\n",
              "      <td>1.146659</td>\n",
              "      <td>0.799517</td>\n",
              "    </tr>\n",
              "    <tr>\n",
              "      <th>min</th>\n",
              "      <td>1.000000e+00</td>\n",
              "      <td>5.000000</td>\n",
              "      <td>0.000000</td>\n",
              "      <td>0.000000</td>\n",
              "    </tr>\n",
              "    <tr>\n",
              "      <th>25%</th>\n",
              "      <td>5.000000e+00</td>\n",
              "      <td>14.000000</td>\n",
              "      <td>0.000000</td>\n",
              "      <td>0.000000</td>\n",
              "    </tr>\n",
              "    <tr>\n",
              "      <th>50%</th>\n",
              "      <td>2.300000e+01</td>\n",
              "      <td>20.000000</td>\n",
              "      <td>1.000000</td>\n",
              "      <td>1.000000</td>\n",
              "    </tr>\n",
              "    <tr>\n",
              "      <th>75%</th>\n",
              "      <td>1.470000e+02</td>\n",
              "      <td>26.000000</td>\n",
              "      <td>2.000000</td>\n",
              "      <td>2.000000</td>\n",
              "    </tr>\n",
              "    <tr>\n",
              "      <th>max</th>\n",
              "      <td>9.333536e+08</td>\n",
              "      <td>67.000000</td>\n",
              "      <td>4.000000</td>\n",
              "      <td>2.000000</td>\n",
              "    </tr>\n",
              "  </tbody>\n",
              "</table>\n",
              "</div>"
            ],
            "text/plain": [
              "              links   word_count    group_cat  group_2_cat\n",
              "count  5.291000e+03  5291.000000  5291.000000  5291.000000\n",
              "mean   3.126105e+05    20.750142     1.092799     0.883765\n",
              "std    1.342540e+07     8.522423     1.146659     0.799517\n",
              "min    1.000000e+00     5.000000     0.000000     0.000000\n",
              "25%    5.000000e+00    14.000000     0.000000     0.000000\n",
              "50%    2.300000e+01    20.000000     1.000000     1.000000\n",
              "75%    1.470000e+02    26.000000     2.000000     2.000000\n",
              "max    9.333536e+08    67.000000     4.000000     2.000000"
            ]
          },
          "metadata": {
            "tags": []
          },
          "execution_count": 45
        }
      ]
    },
    {
      "cell_type": "code",
      "metadata": {
        "colab": {
          "base_uri": "https://localhost:8080/",
          "height": 280
        },
        "id": "SxO5tr23KE2M",
        "outputId": "ab2ac738-f324-410e-93d6-ede0b1e4102f"
      },
      "source": [
        "import matplotlib.pyplot as plt\n",
        "\n",
        "freqs = data.groupby('word_count').count()['req']\n",
        "\n",
        "fig = sns.scatterplot(x=freqs.index, y=freqs)\n",
        "fig.set(xlabel='Número de Palabras por Requisito', ylabel='Número de Requisitos')\n",
        "plt.show()"
      ],
      "execution_count": 46,
      "outputs": [
        {
          "output_type": "display_data",
          "data": {
            "image/png": "[encoded data removed]",
            "text/plain": [
              "<Figure size 432x288 with 1 Axes>"
            ]
          },
          "metadata": {
            "tags": [],
            "needs_background": "light"
          }
        }
      ]
    }
  ]
}
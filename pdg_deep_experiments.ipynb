{
  "nbformat": 4,
  "nbformat_minor": 0,
  "metadata": {
    "colab": {
      "name": "pdg_deep_experiments.ipynb",
      "provenance": [],
      "collapsed_sections": [
        "lBxyHQFrt9wt",
        "Cis1UJdvu3Rg",
        "_lPV1nIf8M-A"
      ]
    },
    "kernelspec": {
      "display_name": "Python 3",
      "name": "python3"
    },
    "language_info": {
      "name": "python"
    }
  },
  "cells": [
    {
      "cell_type": "markdown",
      "metadata": {
        "id": "lBxyHQFrt9wt"
      },
      "source": [
        "# Data Loading"
      ]
    },
    {
      "cell_type": "code",
      "metadata": {
        "colab": {
          "base_uri": "https://localhost:8080/",
          "height": 0
        },
        "id": "K7GqGsZqtD7Z",
        "outputId": "aa3e46bf-e326-43df-91c7-4d2deb5fc208"
      },
      "source": [
        "import pandas as pd\n",
        "\n",
        "data = pd.read_csv('https://raw.githubusercontent.com/Ragnarok540/pdg/main/tags.txt', sep='~', header=None)\n",
        "data.columns = ['links', 'req']\n",
        "data.head()"
      ],
      "execution_count": 1,
      "outputs": [
        {
          "output_type": "execute_result",
          "data": {
            "text/html": [
              "<div>\n",
              "<style scoped>\n",
              "    .dataframe tbody tr th:only-of-type {\n",
              "        vertical-align: middle;\n",
              "    }\n",
              "\n",
              "    .dataframe tbody tr th {\n",
              "        vertical-align: top;\n",
              "    }\n",
              "\n",
              "    .dataframe thead th {\n",
              "        text-align: right;\n",
              "    }\n",
              "</style>\n",
              "<table border=\"1\" class=\"dataframe\">\n",
              "  <thead>\n",
              "    <tr style=\"text-align: right;\">\n",
              "      <th></th>\n",
              "      <th>links</th>\n",
              "      <th>req</th>\n",
              "    </tr>\n",
              "  </thead>\n",
              "  <tbody>\n",
              "    <tr>\n",
              "      <th>0</th>\n",
              "      <td>198</td>\n",
              "      <td>The solution should provide detailed context s...</td>\n",
              "    </tr>\n",
              "    <tr>\n",
              "      <th>1</th>\n",
              "      <td>282</td>\n",
              "      <td>The solution should provide an interface for t...</td>\n",
              "    </tr>\n",
              "    <tr>\n",
              "      <th>2</th>\n",
              "      <td>34</td>\n",
              "      <td>The solution should send alerts (for example, ...</td>\n",
              "    </tr>\n",
              "    <tr>\n",
              "      <th>3</th>\n",
              "      <td>8</td>\n",
              "      <td>The solution should enable the user to track t...</td>\n",
              "    </tr>\n",
              "    <tr>\n",
              "      <th>4</th>\n",
              "      <td>401597</td>\n",
              "      <td>The solution should enable the help desk user ...</td>\n",
              "    </tr>\n",
              "  </tbody>\n",
              "</table>\n",
              "</div>"
            ],
            "text/plain": [
              "    links                                                req\n",
              "0     198  The solution should provide detailed context s...\n",
              "1     282  The solution should provide an interface for t...\n",
              "2      34  The solution should send alerts (for example, ...\n",
              "3       8  The solution should enable the user to track t...\n",
              "4  401597  The solution should enable the help desk user ..."
            ]
          },
          "metadata": {
            "tags": []
          },
          "execution_count": 1
        }
      ]
    },
    {
      "cell_type": "markdown",
      "metadata": {
        "id": "Cis1UJdvu3Rg"
      },
      "source": [
        "# Data Labeling"
      ]
    },
    {
      "cell_type": "code",
      "metadata": {
        "colab": {
          "base_uri": "https://localhost:8080/",
          "height": 0
        },
        "id": "kisn1y_9vE9H",
        "outputId": "c2dcba56-e310-424e-caf9-9b76d3843e3e"
      },
      "source": [
        "import sys\n",
        "from sklearn.preprocessing import LabelBinarizer\n",
        "\n",
        "def add_categories(df):\n",
        "  bins = [0, 11, 120, sys.maxsize]\n",
        "  labels = ['low', 'moderate', 'high']\n",
        "  category = pd.cut(df['links'], bins=bins, labels=labels)\n",
        "  df['category'] = category\n",
        "  lbin = LabelBinarizer()\n",
        "  lbin.fit(labels)\n",
        "  bin = pd.DataFrame.from_records(lbin.transform(df['category']), columns=lbin.classes_)\n",
        "  return pd.concat([df, bin], axis='columns')\n",
        "\n",
        "data = add_categories(data)\n",
        "\n",
        "data.head()"
      ],
      "execution_count": 2,
      "outputs": [
        {
          "output_type": "execute_result",
          "data": {
            "text/html": [
              "<div>\n",
              "<style scoped>\n",
              "    .dataframe tbody tr th:only-of-type {\n",
              "        vertical-align: middle;\n",
              "    }\n",
              "\n",
              "    .dataframe tbody tr th {\n",
              "        vertical-align: top;\n",
              "    }\n",
              "\n",
              "    .dataframe thead th {\n",
              "        text-align: right;\n",
              "    }\n",
              "</style>\n",
              "<table border=\"1\" class=\"dataframe\">\n",
              "  <thead>\n",
              "    <tr style=\"text-align: right;\">\n",
              "      <th></th>\n",
              "      <th>links</th>\n",
              "      <th>req</th>\n",
              "      <th>category</th>\n",
              "      <th>high</th>\n",
              "      <th>low</th>\n",
              "      <th>moderate</th>\n",
              "    </tr>\n",
              "  </thead>\n",
              "  <tbody>\n",
              "    <tr>\n",
              "      <th>0</th>\n",
              "      <td>198</td>\n",
              "      <td>The solution should provide detailed context s...</td>\n",
              "      <td>high</td>\n",
              "      <td>1</td>\n",
              "      <td>0</td>\n",
              "      <td>0</td>\n",
              "    </tr>\n",
              "    <tr>\n",
              "      <th>1</th>\n",
              "      <td>282</td>\n",
              "      <td>The solution should provide an interface for t...</td>\n",
              "      <td>high</td>\n",
              "      <td>1</td>\n",
              "      <td>0</td>\n",
              "      <td>0</td>\n",
              "    </tr>\n",
              "    <tr>\n",
              "      <th>2</th>\n",
              "      <td>34</td>\n",
              "      <td>The solution should send alerts (for example, ...</td>\n",
              "      <td>moderate</td>\n",
              "      <td>0</td>\n",
              "      <td>0</td>\n",
              "      <td>1</td>\n",
              "    </tr>\n",
              "    <tr>\n",
              "      <th>3</th>\n",
              "      <td>8</td>\n",
              "      <td>The solution should enable the user to track t...</td>\n",
              "      <td>low</td>\n",
              "      <td>0</td>\n",
              "      <td>1</td>\n",
              "      <td>0</td>\n",
              "    </tr>\n",
              "    <tr>\n",
              "      <th>4</th>\n",
              "      <td>401597</td>\n",
              "      <td>The solution should enable the help desk user ...</td>\n",
              "      <td>high</td>\n",
              "      <td>1</td>\n",
              "      <td>0</td>\n",
              "      <td>0</td>\n",
              "    </tr>\n",
              "  </tbody>\n",
              "</table>\n",
              "</div>"
            ],
            "text/plain": [
              "    links                                                req  ... low  moderate\n",
              "0     198  The solution should provide detailed context s...  ...   0         0\n",
              "1     282  The solution should provide an interface for t...  ...   0         0\n",
              "2      34  The solution should send alerts (for example, ...  ...   0         1\n",
              "3       8  The solution should enable the user to track t...  ...   1         0\n",
              "4  401597  The solution should enable the help desk user ...  ...   0         0\n",
              "\n",
              "[5 rows x 6 columns]"
            ]
          },
          "metadata": {
            "tags": []
          },
          "execution_count": 2
        }
      ]
    },
    {
      "cell_type": "markdown",
      "metadata": {
        "id": "_lPV1nIf8M-A"
      },
      "source": [
        "# Train-Test Split"
      ]
    },
    {
      "cell_type": "code",
      "metadata": {
        "id": "v1j2FyDr8XRY"
      },
      "source": [
        "from sklearn.model_selection import train_test_split\n",
        "\n",
        "X_train, X_test, y_train, y_test = train_test_split(data['req'], data[['low', 'moderate', 'high']], test_size=0.2, random_state=1)"
      ],
      "execution_count": 3,
      "outputs": []
    },
    {
      "cell_type": "markdown",
      "metadata": {
        "id": "M1EkURVv9RLO"
      },
      "source": [
        "# Data Transformation"
      ]
    },
    {
      "cell_type": "code",
      "metadata": {
        "id": "-_MbFCbX9U0S"
      },
      "source": [
        "from keras.preprocessing.text import Tokenizer\n",
        "from keras.preprocessing.sequence import pad_sequences\n",
        "\n",
        "tokenizer = Tokenizer(num_words=7000)\n",
        "tokenizer.fit_on_texts(data['req'])\n",
        "\n",
        "X_train = tokenizer.texts_to_sequences(X_train)\n",
        "X_test = tokenizer.texts_to_sequences(X_test)\n",
        "\n",
        "vocab_size = len(tokenizer.word_index) + 1\n",
        "\n",
        "maxlen = 100\n",
        "\n",
        "X_train = pad_sequences(X_train, padding='post', maxlen=maxlen)\n",
        "X_test = pad_sequences(X_test, padding='post', maxlen=maxlen)"
      ],
      "execution_count": 4,
      "outputs": []
    },
    {
      "cell_type": "code",
      "metadata": {
        "colab": {
          "base_uri": "https://localhost:8080/"
        },
        "id": "86PhrCE_9fF1",
        "outputId": "a41951e0-4ec4-4400-d926-0253da522099"
      },
      "source": [
        "from google.colab import drive\n",
        "\n",
        "drive.mount('/content/drive')"
      ],
      "execution_count": 5,
      "outputs": [
        {
          "output_type": "stream",
          "text": [
            "Drive already mounted at /content/drive; to attempt to forcibly remount, call drive.mount(\"/content/drive\", force_remount=True).\n"
          ],
          "name": "stdout"
        }
      ]
    },
    {
      "cell_type": "code",
      "metadata": {
        "colab": {
          "base_uri": "https://localhost:8080/"
        },
        "id": "7EuCa1x6-BIU",
        "outputId": "8ae975f2-708b-4276-a320-7bddb563bdd3"
      },
      "source": [
        "import numpy as np\n",
        "\n",
        "def create_embedding_matrix(filepath, word_index, embedding_dim):\n",
        "    vocab_size = len(word_index) + 1  # Adding again 1 because of reserved 0 index\n",
        "    embedding_matrix = np.zeros((vocab_size, embedding_dim))\n",
        "\n",
        "    with open(filepath) as f:\n",
        "        for line in f:\n",
        "            word, *vector = line.split()\n",
        "            if word in word_index:\n",
        "                idx = word_index[word]\n",
        "                embedding_matrix[idx] = np.array(vector, dtype=np.float32)[:embedding_dim]\n",
        "\n",
        "    return embedding_matrix\n",
        "\n",
        "glove = True\n",
        "\n",
        "if glove:\n",
        "  embedding_dim = 100\n",
        "  embedding_matrix = create_embedding_matrix(\n",
        "      '/content/drive/MyDrive/cnn/glove.6B.100d.txt',\n",
        "      tokenizer.word_index, embedding_dim)\n",
        "else:\n",
        "  embedding_dim = 100\n",
        "  embedding_matrix = create_embedding_matrix(\n",
        "      '/content/drive/MyDrive/cnn/word2vec.wiki.100d.txt',\n",
        "      tokenizer.word_index, embedding_dim)\n",
        "\n",
        "nonzero_elements = np.count_nonzero(np.count_nonzero(embedding_matrix, axis=1))\n",
        "\n",
        "nonzero_elements / vocab_size"
      ],
      "execution_count": 6,
      "outputs": [
        {
          "output_type": "execute_result",
          "data": {
            "text/plain": [
              "0.9328323156411461"
            ]
          },
          "metadata": {
            "tags": []
          },
          "execution_count": 6
        }
      ]
    },
    {
      "cell_type": "markdown",
      "metadata": {
        "id": "U7_4XsSc-9lL"
      },
      "source": [
        "# Model"
      ]
    },
    {
      "cell_type": "code",
      "metadata": {
        "id": "IbL0PPDTt7WY"
      },
      "source": [
        "from keras.models import Sequential\n",
        "from keras import layers\n",
        "from keras.metrics import Precision, Recall, CategoricalAccuracy"
      ],
      "execution_count": 7,
      "outputs": []
    },
    {
      "cell_type": "markdown",
      "metadata": {
        "id": "f6iAuRUKCzps"
      },
      "source": [
        "## Convolutional Neural Network"
      ]
    },
    {
      "cell_type": "code",
      "metadata": {
        "id": "g2B4tjTg75JE"
      },
      "source": [
        "def model_cnn():\n",
        "  model = Sequential()\n",
        "  model.add(layers.Embedding(vocab_size, embedding_dim, \n",
        "                            weights=[embedding_matrix], \n",
        "                            input_length=maxlen,\n",
        "                            mask_zero=True,\n",
        "                            trainable=True))\n",
        "  model.add(layers.Dropout(0.5))\n",
        "  model.add(layers.Conv1D(16, 7, padding=\"valid\", activation=\"relu\", strides=3)) \n",
        "  model.add(layers.Conv1D(32, 7, padding=\"valid\", activation=\"relu\", strides=3)) \n",
        "  model.add(layers.GlobalMaxPooling1D())\n",
        "  model.add(layers.Dense(32, activation='relu'))\n",
        "  model.add(layers.Dropout(0.5))\n",
        "  model.add(layers.Dense(3, activation='softmax'))\n",
        "\n",
        "  model.compile(loss='categorical_crossentropy',\n",
        "                optimizer='adam', \n",
        "                metrics=[CategoricalAccuracy(), Precision(), Recall()])\n",
        "  return model"
      ],
      "execution_count": 8,
      "outputs": []
    },
    {
      "cell_type": "markdown",
      "metadata": {
        "id": "K0bSxYQoC6a3"
      },
      "source": [
        "## Recurrent Neural Network"
      ]
    },
    {
      "cell_type": "code",
      "metadata": {
        "id": "AOew8nk__A8M"
      },
      "source": [
        "def model_rnn():\n",
        "  model = Sequential()\n",
        "  model.add(layers.Embedding(vocab_size, embedding_dim, \n",
        "                             weights=[embedding_matrix], \n",
        "                             input_length=maxlen,\n",
        "                             mask_zero=True,\n",
        "                             trainable=True))\n",
        "  model.add(layers.Dropout(0.3))\n",
        "  model.add(layers.SimpleRNN(75, return_sequences=True))\n",
        "  model.add(layers.GlobalMaxPooling1D())\n",
        "  model.add(layers.Dense(75, activation='relu'))\n",
        "  model.add(layers.Dropout(0.3))\n",
        "  model.add(layers.Dense(3, activation='softmax'))\n",
        "\n",
        "  model.compile(loss='categorical_crossentropy',\n",
        "                optimizer='Adam', \n",
        "                metrics=[CategoricalAccuracy(), Precision(), Recall()])\n",
        "  return model"
      ],
      "execution_count": 9,
      "outputs": []
    },
    {
      "cell_type": "markdown",
      "metadata": {
        "id": "s5a0RQiJDQzv"
      },
      "source": [
        "## LSTM Neural Network"
      ]
    },
    {
      "cell_type": "code",
      "metadata": {
        "id": "P3AfFuRHAcz1"
      },
      "source": [
        "def model_lstm():\n",
        "  model = Sequential()\n",
        "  model.add(layers.Embedding(vocab_size, embedding_dim, \n",
        "                             weights=[embedding_matrix], \n",
        "                             input_length=maxlen,\n",
        "                             mask_zero=True,\n",
        "                             trainable=True))\n",
        "  model.add(layers.LSTM(50, return_sequences=True))\n",
        "  model.add(layers.GlobalMaxPooling1D())\n",
        "  model.add(layers.Dense(50, activation='relu'))\n",
        "  model.add(layers.Dense(3, activation='softmax'))\n",
        "\n",
        "  model.compile(loss='categorical_crossentropy',\n",
        "                optimizer='Adam', \n",
        "                metrics=[CategoricalAccuracy(), Precision(), Recall()])\n",
        "  return model"
      ],
      "execution_count": 10,
      "outputs": []
    },
    {
      "cell_type": "markdown",
      "metadata": {
        "id": "NMeG70C0DUYn"
      },
      "source": [
        "## Bidirectional LSTM Neural Network"
      ]
    },
    {
      "cell_type": "code",
      "metadata": {
        "id": "agipv6q7BpRb"
      },
      "source": [
        "def model_bidirectional_lstm():\n",
        "  model = Sequential()\n",
        "  model.add(layers.Embedding(vocab_size, embedding_dim, \n",
        "                             weights=[embedding_matrix], \n",
        "                             input_length=maxlen,\n",
        "                             mask_zero=True,\n",
        "                             trainable=True))\n",
        "  model.add(layers.Dropout(0.5))\n",
        "  model.add(layers.Bidirectional(layers.LSTM(100, return_sequences=True)))\n",
        "  model.add(layers.GlobalMaxPooling1D())\n",
        "  model.add(layers.Dense(100, activation='relu'))\n",
        "  model.add(layers.Dropout(0.5))\n",
        "  model.add(layers.Dense(3, activation='softmax'))\n",
        "\n",
        "  model.compile(loss='categorical_crossentropy',\n",
        "                optimizer='Adam', \n",
        "                metrics=[CategoricalAccuracy(), Precision(), Recall()])\n",
        "  return model"
      ],
      "execution_count": 11,
      "outputs": []
    },
    {
      "cell_type": "markdown",
      "metadata": {
        "id": "CAZvmseEJMoc"
      },
      "source": [
        "## GRU Neural Network"
      ]
    },
    {
      "cell_type": "code",
      "metadata": {
        "id": "Aq4a6zd9Edjt"
      },
      "source": [
        "def model_gru():\n",
        "  model = Sequential()\n",
        "  model.add(layers.Embedding(vocab_size, embedding_dim, \n",
        "                             weights=[embedding_matrix], \n",
        "                             input_length=maxlen,\n",
        "                             mask_zero=True,\n",
        "                             trainable=True))\n",
        "  model.add(layers.Dropout(0.5))\n",
        "  model.add(layers.GRU(50, return_sequences=True))\n",
        "  model.add(layers.GlobalMaxPooling1D())\n",
        "  model.add(layers.Dense(50, activation='relu'))\n",
        "  model.add(layers.Dropout(0.5))\n",
        "  model.add(layers.Dense(3, activation='softmax'))\n",
        "\n",
        "  model.compile(loss='categorical_crossentropy',\n",
        "                optimizer='Adam', \n",
        "                metrics=[CategoricalAccuracy(), Precision(), Recall()])\n",
        "  return model"
      ],
      "execution_count": 12,
      "outputs": []
    },
    {
      "cell_type": "markdown",
      "metadata": {
        "id": "bH7EbgcNtQVj"
      },
      "source": [
        "## Transformer"
      ]
    },
    {
      "cell_type": "code",
      "metadata": {
        "id": "dNaOtTx_tSu5"
      },
      "source": [
        "# https://keras.io/examples/nlp/text_classification_with_transformer/\n",
        "\n",
        "import tensorflow as tf\n",
        "\n",
        "class TransformerBlock(layers.Layer):\n",
        "    def __init__(self, embed_dim, num_heads, ff_dim, rate=0.1):\n",
        "        super(TransformerBlock, self).__init__()\n",
        "        self.att = layers.MultiHeadAttention(num_heads=num_heads, key_dim=embed_dim)\n",
        "        self.ffn = Sequential(\n",
        "            [layers.Dense(ff_dim, activation=\"relu\"), layers.Dense(embed_dim),]\n",
        "        )\n",
        "        self.layernorm1 = layers.LayerNormalization(epsilon=1e-6)\n",
        "        self.layernorm2 = layers.LayerNormalization(epsilon=1e-6)\n",
        "        self.dropout1 = layers.Dropout(rate)\n",
        "        self.dropout2 = layers.Dropout(rate)\n",
        "\n",
        "    def call(self, inputs, training):\n",
        "        attn_output = self.att(inputs, inputs)\n",
        "        attn_output = self.dropout1(attn_output, training=training)\n",
        "        out1 = self.layernorm1(inputs + attn_output)\n",
        "        ffn_output = self.ffn(out1)\n",
        "        ffn_output = self.dropout2(ffn_output, training=training)\n",
        "        return self.layernorm2(out1 + ffn_output)\n",
        "\n",
        "class TokenAndPositionEmbedding(layers.Layer):\n",
        "    def __init__(self, maxlen, vocab_size, embed_dim, embedding_matrix):\n",
        "        super(TokenAndPositionEmbedding, self).__init__()\n",
        "        self.token_emb = layers.Embedding(input_dim=vocab_size, output_dim=embed_dim, weights=[embedding_matrix])\n",
        "        self.pos_emb = layers.Embedding(input_dim=maxlen, output_dim=embed_dim)\n",
        "\n",
        "    def call(self, x):\n",
        "        maxlen = tf.shape(x)[-1]\n",
        "        positions = tf.range(start=0, limit=maxlen, delta=1)\n",
        "        positions = self.pos_emb(positions)\n",
        "        x = self.token_emb(x)\n",
        "        return x + positions"
      ],
      "execution_count": 13,
      "outputs": []
    },
    {
      "cell_type": "code",
      "metadata": {
        "id": "SfVI2jDMvd_a"
      },
      "source": [
        "def model_transformer():\n",
        "  model = Sequential()\n",
        "  model.add(layers.InputLayer(input_shape=(maxlen,)))\n",
        "  model.add(TokenAndPositionEmbedding(maxlen=maxlen, vocab_size=vocab_size, embed_dim=embedding_dim, embedding_matrix=embedding_matrix))\n",
        "  model.add(TransformerBlock(embed_dim=embedding_dim, num_heads=1, ff_dim=75))\n",
        "  model.add(TransformerBlock(embed_dim=embedding_dim, num_heads=1, ff_dim=75))\n",
        "  model.add(layers.GlobalAveragePooling1D())\n",
        "  model.add(layers.Dropout(0.3))\n",
        "  model.add(layers.Dense(75, activation='relu'))\n",
        "  model.add(layers.Dropout(0.3))\n",
        "  model.add(layers.Dense(3, activation='softmax'))\n",
        "\n",
        "  model.compile(loss='categorical_crossentropy',\n",
        "                optimizer='Adam', \n",
        "                metrics=[CategoricalAccuracy(), Precision(), Recall()])\n",
        "  return model"
      ],
      "execution_count": 14,
      "outputs": []
    },
    {
      "cell_type": "markdown",
      "metadata": {
        "id": "xa8NCX01EV2r"
      },
      "source": [
        "# Run Model"
      ]
    },
    {
      "cell_type": "code",
      "metadata": {
        "id": "CGXkJb2v-8p9"
      },
      "source": [
        "from keras.backend import clear_session\n",
        "\n",
        "clear_session()"
      ],
      "execution_count": 15,
      "outputs": []
    },
    {
      "cell_type": "code",
      "metadata": {
        "colab": {
          "base_uri": "https://localhost:8080/"
        },
        "id": "x2ocrwet72nN",
        "outputId": "5a552fbe-a017-468e-a751-b56eef2224e8"
      },
      "source": [
        "#model = model_cnn()\n",
        "#model = model_rnn()\n",
        "model = model_lstm()\n",
        "#model = model_bidirectional_lstm()\n",
        "#model = model_gru()\n",
        "#model = model_transformer()\n",
        "\n",
        "model.summary()"
      ],
      "execution_count": 16,
      "outputs": [
        {
          "output_type": "stream",
          "text": [
            "Model: \"sequential\"\n",
            "_________________________________________________________________\n",
            "Layer (type)                 Output Shape              Param #   \n",
            "=================================================================\n",
            "embedding (Embedding)        (None, 100, 100)          638700    \n",
            "_________________________________________________________________\n",
            "lstm (LSTM)                  (None, 100, 50)           30200     \n",
            "_________________________________________________________________\n",
            "global_max_pooling1d (Global (None, 50)                0         \n",
            "_________________________________________________________________\n",
            "dense (Dense)                (None, 50)                2550      \n",
            "_________________________________________________________________\n",
            "dense_1 (Dense)              (None, 3)                 153       \n",
            "=================================================================\n",
            "Total params: 671,603\n",
            "Trainable params: 671,603\n",
            "Non-trainable params: 0\n",
            "_________________________________________________________________\n"
          ],
          "name": "stdout"
        }
      ]
    },
    {
      "cell_type": "code",
      "metadata": {
        "colab": {
          "base_uri": "https://localhost:8080/"
        },
        "id": "kFGxxi9rCpB6",
        "outputId": "e79b172c-dcf5-48a2-dae9-610c1e54af6d"
      },
      "source": [
        "from keras import callbacks\n",
        "\n",
        "earlystopping = callbacks.EarlyStopping(monitor=\"val_recall\", \n",
        "                                        mode=\"max\", patience=5, \n",
        "                                        restore_best_weights=True,\n",
        "                                        verbose=1)\n",
        "\n",
        "history = model.fit(X_train, y_train,\n",
        "                    epochs=100,\n",
        "                    validation_data=(X_test, y_test),\n",
        "                    batch_size=32,\n",
        "                    shuffle=True,\n",
        "                    callbacks=[earlystopping])"
      ],
      "execution_count": 17,
      "outputs": [
        {
          "output_type": "stream",
          "text": [
            "Epoch 1/100\n",
            "133/133 [==============================] - 34s 97ms/step - loss: 1.0386 - categorical_accuracy: 0.4342 - precision: 0.4310 - recall: 0.0732 - val_loss: 0.7656 - val_categorical_accuracy: 0.6327 - val_precision: 0.6778 - val_recall: 0.5345\n",
            "Epoch 2/100\n",
            "133/133 [==============================] - 11s 83ms/step - loss: 0.7411 - categorical_accuracy: 0.6597 - precision: 0.6922 - recall: 0.5721 - val_loss: 0.7210 - val_categorical_accuracy: 0.6676 - val_precision: 0.6910 - val_recall: 0.6251\n",
            "Epoch 3/100\n",
            "133/133 [==============================] - 11s 82ms/step - loss: 0.6543 - categorical_accuracy: 0.6967 - precision: 0.7094 - recall: 0.6645 - val_loss: 0.6717 - val_categorical_accuracy: 0.6893 - val_precision: 0.7082 - val_recall: 0.6714\n",
            "Epoch 4/100\n",
            "133/133 [==============================] - 11s 83ms/step - loss: 0.5255 - categorical_accuracy: 0.7861 - precision: 0.7980 - recall: 0.7716 - val_loss: 0.7076 - val_categorical_accuracy: 0.6818 - val_precision: 0.6883 - val_recall: 0.6714\n",
            "Epoch 5/100\n",
            "133/133 [==============================] - 11s 82ms/step - loss: 0.4296 - categorical_accuracy: 0.8259 - precision: 0.8320 - recall: 0.8214 - val_loss: 0.7419 - val_categorical_accuracy: 0.6931 - val_precision: 0.6977 - val_recall: 0.6865\n",
            "Epoch 6/100\n",
            "133/133 [==============================] - 11s 83ms/step - loss: 0.3381 - categorical_accuracy: 0.8740 - precision: 0.8759 - recall: 0.8702 - val_loss: 0.7850 - val_categorical_accuracy: 0.6827 - val_precision: 0.6847 - val_recall: 0.6808\n",
            "Epoch 7/100\n",
            "133/133 [==============================] - 11s 83ms/step - loss: 0.2593 - categorical_accuracy: 0.9110 - precision: 0.9110 - recall: 0.9083 - val_loss: 0.8967 - val_categorical_accuracy: 0.6714 - val_precision: 0.6714 - val_recall: 0.6714\n",
            "Epoch 8/100\n",
            "133/133 [==============================] - 11s 83ms/step - loss: 0.1722 - categorical_accuracy: 0.9437 - precision: 0.9441 - recall: 0.9435 - val_loss: 1.0958 - val_categorical_accuracy: 0.6572 - val_precision: 0.6575 - val_recall: 0.6563\n",
            "Epoch 9/100\n",
            "133/133 [==============================] - 11s 83ms/step - loss: 0.1428 - categorical_accuracy: 0.9506 - precision: 0.9506 - recall: 0.9502 - val_loss: 1.1717 - val_categorical_accuracy: 0.6601 - val_precision: 0.6607 - val_recall: 0.6601\n",
            "Epoch 10/100\n",
            "133/133 [==============================] - 11s 83ms/step - loss: 0.0732 - categorical_accuracy: 0.9791 - precision: 0.9791 - recall: 0.9791 - val_loss: 1.3556 - val_categorical_accuracy: 0.6582 - val_precision: 0.6582 - val_recall: 0.6582\n",
            "Restoring model weights from the end of the best epoch.\n",
            "Epoch 00010: early stopping\n"
          ],
          "name": "stdout"
        }
      ]
    },
    {
      "cell_type": "markdown",
      "metadata": {
        "id": "nWdS7YV_d1Xj"
      },
      "source": [
        "# Evaluation"
      ]
    },
    {
      "cell_type": "code",
      "metadata": {
        "colab": {
          "base_uri": "https://localhost:8080/"
        },
        "id": "kdBfhFCECwFU",
        "outputId": "c91eb03d-ad51-48d1-9da9-24c7ef13f45a"
      },
      "source": [
        "loss, accuracy, precision, recall = model.evaluate(X_train, y_train)\n",
        "print(\"Training Accuracy: {:.4f}\".format(accuracy))\n",
        "loss, accuracy, precision, recall = model.evaluate(X_test, y_test)\n",
        "print(\"Testing Accuracy:  {:.4f}\".format(accuracy))"
      ],
      "execution_count": 18,
      "outputs": [
        {
          "output_type": "stream",
          "text": [
            "133/133 [==============================] - 2s 17ms/step - loss: 0.3286 - categorical_accuracy: 0.8863 - precision: 0.8892 - recall: 0.8833\n",
            "Training Accuracy: 0.8863\n",
            "34/34 [==============================] - 1s 18ms/step - loss: 0.7419 - categorical_accuracy: 0.6931 - precision: 0.6977 - recall: 0.6865\n",
            "Testing Accuracy:  0.6931\n"
          ],
          "name": "stdout"
        }
      ]
    },
    {
      "cell_type": "code",
      "metadata": {
        "colab": {
          "base_uri": "https://localhost:8080/",
          "height": 265
        },
        "id": "70aVabOC9Sfa",
        "outputId": "33151221-362a-44ab-f72f-caf46b6c2360"
      },
      "source": [
        "y_pred = model.predict(X_test)\n",
        "\n",
        "import seaborn as sns\n",
        "\n",
        "def cf_matrix_plot(cf_matrix):\n",
        "  group_names = ['True Low', 'False Moderate', 'False High', 'False Low', 'True Moderate', 'False High', 'False Low', 'False Moderate', 'True High']\n",
        "  group_counts = ['{0:0.0f}'.format(value) for value in cf_matrix.flatten()]\n",
        "  group_percentages = ['{0:.2%}'.format(value) for value in cf_matrix.flatten() / np.sum(cf_matrix)]\n",
        "  labels = [f'{v1}\\n{v2}\\n{v3}' for v1, v2, v3 in zip(group_names, group_counts, group_percentages)]\n",
        "  labels = np.asarray(labels).reshape(3, 3)\n",
        "  sns.heatmap(cf_matrix, annot=labels, fmt='', cmap='Blues')\n",
        "\n",
        "from sklearn import metrics\n",
        "\n",
        "cf_matrix = metrics.confusion_matrix(y_test.to_numpy().argmax(axis=1), y_pred.argmax(axis=1))\n",
        "\n",
        "cf_matrix_plot(cf_matrix)"
      ],
      "execution_count": 19,
      "outputs": [
        {
          "output_type": "display_data",
          "data": {
            "image/png": "[encoded data removed]",
            "text/plain": [
              "<Figure size 432x288 with 2 Axes>"
            ]
          },
          "metadata": {
            "tags": [],
            "needs_background": "light"
          }
        }
      ]
    },
    {
      "cell_type": "code",
      "metadata": {
        "colab": {
          "base_uri": "https://localhost:8080/"
        },
        "id": "V9rHe4pPBnSZ",
        "outputId": "830c22b2-859b-4349-fc38-1233ec057696"
      },
      "source": [
        "print(metrics.classification_report(y_test.to_numpy().argmax(axis=1), y_pred.argmax(axis=1), labels=[0, 1, 2]))"
      ],
      "execution_count": 20,
      "outputs": [
        {
          "output_type": "stream",
          "text": [
            "              precision    recall  f1-score   support\n",
            "\n",
            "           0       0.82      0.73      0.77       400\n",
            "           1       0.59      0.58      0.58       375\n",
            "           2       0.68      0.79      0.73       284\n",
            "\n",
            "    accuracy                           0.69      1059\n",
            "   macro avg       0.69      0.70      0.69      1059\n",
            "weighted avg       0.70      0.69      0.69      1059\n",
            "\n"
          ],
          "name": "stdout"
        }
      ]
    },
    {
      "cell_type": "code",
      "metadata": {
        "colab": {
          "base_uri": "https://localhost:8080/",
          "height": 609
        },
        "id": "fJdSJbFnCwpB",
        "outputId": "605e1bea-83db-4895-f445-70631c4862d3"
      },
      "source": [
        "import matplotlib.pyplot as plt\n",
        "\n",
        "plt.style.use('ggplot')\n",
        "\n",
        "def plot_history(history):\n",
        "    acc = history.history['categorical_accuracy']\n",
        "    val_acc = history.history['val_categorical_accuracy']\n",
        "    loss = history.history['loss']\n",
        "    val_loss = history.history['val_loss']\n",
        "    pre = history.history['precision']\n",
        "    val_pre = history.history['val_precision']\n",
        "    rec = history.history['recall']\n",
        "    val_rec = history.history['val_recall']\n",
        "    x = range(1, len(acc) + 1)\n",
        "\n",
        "    plt.figure(figsize=(14, 10))\n",
        "    plt.subplot(2, 2, 1)\n",
        "    plt.plot(x, acc, 'b', label='Training acc')\n",
        "    plt.plot(x, val_acc, 'r', label='Validation acc')\n",
        "    plt.title('Training and validation accuracy')\n",
        "    plt.legend()\n",
        "    plt.subplot(2, 2, 2)\n",
        "    plt.plot(x, loss, 'b', label='Training loss')\n",
        "    plt.plot(x, val_loss, 'r', label='Validation loss')\n",
        "    plt.title('Training and validation loss')\n",
        "    plt.legend()\n",
        "    plt.subplot(2, 2, 3)\n",
        "    plt.plot(x, pre, 'b', label='Training pre')\n",
        "    plt.plot(x, val_pre, 'r', label='Validation pre')\n",
        "    plt.title('Training and validation precision')\n",
        "    plt.legend()\n",
        "    plt.subplot(2, 2, 4)\n",
        "    plt.plot(x, rec, 'b', label='Training rec')\n",
        "    plt.plot(x, val_rec, 'r', label='Validation rec')\n",
        "    plt.title('Training and validation recall')\n",
        "    plt.legend()\n",
        "\n",
        "plot_history(history)"
      ],
      "execution_count": 21,
      "outputs": [
        {
          "output_type": "display_data",
          "data": {
            "image/png": "[encoded data removed]",
            "text/plain": [
              "<Figure size 1008x720 with 4 Axes>"
            ]
          },
          "metadata": {
            "tags": []
          }
        }
      ]
    }
  ]
}